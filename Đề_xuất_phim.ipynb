{
 "cells": [
  {
   "cell_type": "markdown",
   "metadata": {},
   "source": [
    "**TF-IDF** (Term Frequency-Inverse Document Frequency) là một phương pháp thống kê thường được sử dụng trong xử lý ngôn ngữ tự nhiên (NLP) và khai thác văn bản để đánh giá tầm quan trọng của một từ trong tài liệu so với toàn bộ tập hợp các tài liệu. Nó là sự kết hợp của hai yếu tố: **TF** (Term Frequency) và **IDF** (Inverse Document Frequency).\r\n",
    "\r\n",
    "### 1 1. Term Frequency (TF) - Tần suất của **từ**\r\n",
    "**TF** đo lường mức độ xuất hiện của một từ trong một tài liệu cụ thể. Nếu một từ xuất hiện nhiều lần trong một tài liệu, tần suất của từ đó sẽ cao, nghĩa là từ này có khả năng liên quan đến nội dung của tài liệu.\r\n",
    "\r\n",
    "Công thức tính **TF**:\r\n",
    "$$\r\n",
    "TF(t, d) = \\frac{\\text{số lần từ } t \\text{ xuất hiện trong tài liệu } d}{\\text{tổng số từ trong tài liệu } d}\r\n",
    "$$\r\n",
    "\r\n",
    "Ví dụ: Nếu từ \"phim\" xuất hiện 5 lần trong một tài liệu có tổng cộng 100 từ, thì TF của từ \"phim\" là:\r\n",
    "\r\n",
    "$$\r\n",
    "TF(\\text{\"phim\"}) = \\frac{5}{100} = 0.05\r\n",
    "$$\r\n",
    "\r\n",
    "### 2. **Inverse Document Frequency (IDF) - Tần suất ngược tài liệu**\r\n",
    "**IDF** giúp xác định mức độ quan trọng của một từ trên toàn bộ tập hợp tài liệu. Nếu một từ xuất hiện trong nhiều tài liệu, từ đó ít mang tính phân biệt giữa các tài liệu. Ngược lại, nếu một từ xuất hiện trong ít tài liệu, từ đó có tính phân biệt cao hơn.\r\n",
    "\r\n",
    "Công thức tính **IDF**:\r\n",
    "$$\r\n",
    "IDF(t) = \\log \\left( \\frac{N}{n_t} \\right)\r\n",
    "$$\r\n",
    "- **N**: Tổng số tài liệu trong tập hợp.\r\n",
    "- **n_t**: Số tài liệu chứa từ **t**.\r\n",
    "\r\n",
    "Ví dụ: Nếu có 1000 tài liệu và từ \"phim\" chỉ xuất hiện trong 10 tài liệu, thì:\r\n",
    "$$\r\n",
    "IDF(\\text{\"phim\"}) = \\log \\left( \\frac{1000}{10} \\right) = \\log(100) \\approx 2\r\n",
    "$$\r\n",
    "\r\n",
    "### 3. **TF-IDF - Kết hợp của TF và IDF**\r\n",
    "**TF-IDF** là tích của **TF** và **IDF**, giúp xác định tầm quan trọng của một từ trong một tài liệu cụ thể so với toàn bộ tập hợp tài liệu. Các từ có **TF-IDF** cao được coi là có ý nghĩa phân biệt tài liệu đó so với các tài liệu khác.\r\n",
    "\r\n",
    "Công thức tính **TF-IDF**:\r\n",
    "$$\r\n",
    "TF\\text{-}IDF(t, d) = TF(t, d) \\times IDF(t)\r\n",
    "$$\r\n",
    "\r\n",
    "Trong đó:\r\n",
    "- **t**: Từ đang được xem xét.\r\n",
    "- **d**: Tài liệu cụ thể.\r\n",
    "- **D**: Tập hợp các tài liệu.\r\n",
    "\r\n",
    "### Ví dụ:\r\n",
    "Giả sử bạn có 3 tài liệu:\r\n",
    "- Tài liệu 1: \"phim hay phim hành động\".\r\n",
    "- Tài liệu 2: \"phim kinh dị đáng sợ\".\r\n",
    "- Tài liệu 3: \"phim và sách giáo khoa\".\r\n",
    "\r\n",
    "Bây giờ ta tính **TF-IDF** cho từ \"phim\":\r\n",
    "- **TF** của từ \"phim\" trong Tài liệu 1: 2/4 = 0.5.\r\n",
    "- **IDF** của từ \"phim\" trên toàn bộ tập hợp tài liệu \"(cả \"3 tài liệu đều có từ \"phim\"): \r\n",
    "  $$\r\n",
    "  IDF(\\text{phim}) = \\log \\left( \\frac{3}{3} \\right) = 0.\r\n",
    "  $$\r\n",
    "- **TF-IDF** của từ \"phim\" sẽ bằng 0 vì IDF là 0.\r\n",
    "\r\n",
    "Ngược lại, với từ \"hành động\", **TF-IDF** sẽ cao hơn do từ này chỉ xuất hiện ở một tài liệu.\r\n",
    "\r\n",
    "### Ý nghĩa của TF-IDF:\r\n",
    "- **Từ phổ biến** (như \"phim\") sẽ có **IDF thấp**, làm giảm tầm quan trọng của từ này trong toàn bộ tài liệu.\r\n",
    "- **Từ hiếm** (như \"hành động\") sẽ có **IDF cao**, giúp nó được phân biệt và xem như có ý nghĩa hơn trong tài liệu.\r\n",
    "\r\n",
    "### Ứng dụng của TF-IDF:\r\n",
    "- **Tìm kiếm thông tin**: TF-IDF được sử dụng trong các hệ thống tìm kiếm để xếp hạng tài liệu theo mức độ liên quan đến truy vấn.\r\n",
    "- **Phân tích văn bản**: Xác định các từ quan trọng trong văn bản để phân tích nội dung.\r\n",
    "- **Xây dựng mô hình học máy**: TF-IDF là một kỹ thuật phổ biến để vector hóa văn bản trước khi đưa vào mô hình học máy.\r\n",
    "\r\n",
    "Nhờ TF-IDF, chúng ta có thể xác định được các từ mang tính phân biệt cao và quan trọng trong tập hợp tài liệu lớn.\r\n",
    "$g tính phân biệt cao và quan trọng trong tập hợp tài liệu lớn.\r\n",
    "ừ mang tính phân biệt cao và quan trọng trong tập hợp tài liệu lớn.\r\n"
   ]
  },
  {
   "cell_type": "markdown",
   "metadata": {},
   "source": [
    "Bây giờ ta tính **TF-IDF** cho từ \"phim\":\n",
    "- **TF** của từ \"phim\" trong Tài liệu 1: 2/4 = 0.5.\n",
    "- **IDF** của từ \"phim\" trên toàn bộ tập hợp tài liệu (cả 3 tài liệu đều có từ \"phim\"): \n",
    "  $$\n",
    "  IDF(\\text{\"phim\"}) = \\log \\left( \\frac{3}{3} \\right) = 0.\n",
    "  $$\n",
    "- **TF-IDF** của từ \"phim\" sẽ bằng 0 vì IDF là 0.\n",
    "\n",
    "Ngược lại, với từ \"hành động\", **TF-IDF** sẽ cao hơn do từ này chỉ xuất hiện ở một tài liệu."
   ]
  },
  {
   "cell_type": "code",
   "execution_count": 1,
   "metadata": {
    "id": "dEUaiyC6y8m2"
   },
   "outputs": [],
   "source": [
    "import pandas as pd\n",
    "import matplotlib.pyplot as plt\n",
    "import json\n",
    "\n",
    "from sklearn.feature_extraction.text import TfidfVectorizer\n",
    "from sklearn.metrics.pairwise import cosine_similarity, euclidean_distances"
   ]
  },
  {
   "cell_type": "code",
   "execution_count": 2,
   "metadata": {
    "id": "1upUir_CzZJn"
   },
   "outputs": [],
   "source": [
    "df = pd.read_csv('tmdb_5000_movies.csv')"
   ]
  },
  {
   "cell_type": "code",
   "execution_count": 3,
   "metadata": {
    "colab": {
     "base_uri": "https://localhost:8080/",
     "height": 729
    },
    "id": "dc-iNxU5z1iU",
    "outputId": "40573aef-da52-4ea0-fdf6-ed6ab2de1382"
   },
   "outputs": [
    {
     "data": {
      "text/html": [
       "<div>\n",
       "<style scoped>\n",
       "    .dataframe tbody tr th:only-of-type {\n",
       "        vertical-align: middle;\n",
       "    }\n",
       "\n",
       "    .dataframe tbody tr th {\n",
       "        vertical-align: top;\n",
       "    }\n",
       "\n",
       "    .dataframe thead th {\n",
       "        text-align: right;\n",
       "    }\n",
       "</style>\n",
       "<table border=\"1\" class=\"dataframe\">\n",
       "  <thead>\n",
       "    <tr style=\"text-align: right;\">\n",
       "      <th></th>\n",
       "      <th>budget</th>\n",
       "      <th>genres</th>\n",
       "      <th>homepage</th>\n",
       "      <th>id</th>\n",
       "      <th>keywords</th>\n",
       "      <th>original_language</th>\n",
       "      <th>original_title</th>\n",
       "      <th>overview</th>\n",
       "      <th>popularity</th>\n",
       "      <th>production_companies</th>\n",
       "      <th>production_countries</th>\n",
       "      <th>release_date</th>\n",
       "      <th>revenue</th>\n",
       "      <th>runtime</th>\n",
       "      <th>spoken_languages</th>\n",
       "      <th>status</th>\n",
       "      <th>tagline</th>\n",
       "      <th>title</th>\n",
       "      <th>vote_average</th>\n",
       "      <th>vote_count</th>\n",
       "    </tr>\n",
       "  </thead>\n",
       "  <tbody>\n",
       "    <tr>\n",
       "      <th>0</th>\n",
       "      <td>237000000</td>\n",
       "      <td>[{\"id\": 28, \"name\": \"Action\"}, {\"id\": 12, \"nam...</td>\n",
       "      <td>http://www.avatarmovie.com/</td>\n",
       "      <td>19995</td>\n",
       "      <td>[{\"id\": 1463, \"name\": \"culture clash\"}, {\"id\":...</td>\n",
       "      <td>en</td>\n",
       "      <td>Avatar</td>\n",
       "      <td>In the 22nd century, a paraplegic Marine is di...</td>\n",
       "      <td>150.437577</td>\n",
       "      <td>[{\"name\": \"Ingenious Film Partners\", \"id\": 289...</td>\n",
       "      <td>[{\"iso_3166_1\": \"US\", \"name\": \"United States o...</td>\n",
       "      <td>2009-12-10</td>\n",
       "      <td>2787965087</td>\n",
       "      <td>162.0</td>\n",
       "      <td>[{\"iso_639_1\": \"en\", \"name\": \"English\"}, {\"iso...</td>\n",
       "      <td>Released</td>\n",
       "      <td>Enter the World of Pandora.</td>\n",
       "      <td>Avatar</td>\n",
       "      <td>7.2</td>\n",
       "      <td>11800</td>\n",
       "    </tr>\n",
       "    <tr>\n",
       "      <th>1</th>\n",
       "      <td>300000000</td>\n",
       "      <td>[{\"id\": 12, \"name\": \"Adventure\"}, {\"id\": 14, \"...</td>\n",
       "      <td>http://disney.go.com/disneypictures/pirates/</td>\n",
       "      <td>285</td>\n",
       "      <td>[{\"id\": 270, \"name\": \"ocean\"}, {\"id\": 726, \"na...</td>\n",
       "      <td>en</td>\n",
       "      <td>Pirates of the Caribbean: At World's End</td>\n",
       "      <td>Captain Barbossa, long believed to be dead, ha...</td>\n",
       "      <td>139.082615</td>\n",
       "      <td>[{\"name\": \"Walt Disney Pictures\", \"id\": 2}, {\"...</td>\n",
       "      <td>[{\"iso_3166_1\": \"US\", \"name\": \"United States o...</td>\n",
       "      <td>2007-05-19</td>\n",
       "      <td>961000000</td>\n",
       "      <td>169.0</td>\n",
       "      <td>[{\"iso_639_1\": \"en\", \"name\": \"English\"}]</td>\n",
       "      <td>Released</td>\n",
       "      <td>At the end of the world, the adventure begins.</td>\n",
       "      <td>Pirates of the Caribbean: At World's End</td>\n",
       "      <td>6.9</td>\n",
       "      <td>4500</td>\n",
       "    </tr>\n",
       "    <tr>\n",
       "      <th>2</th>\n",
       "      <td>245000000</td>\n",
       "      <td>[{\"id\": 28, \"name\": \"Action\"}, {\"id\": 12, \"nam...</td>\n",
       "      <td>http://www.sonypictures.com/movies/spectre/</td>\n",
       "      <td>206647</td>\n",
       "      <td>[{\"id\": 470, \"name\": \"spy\"}, {\"id\": 818, \"name...</td>\n",
       "      <td>en</td>\n",
       "      <td>Spectre</td>\n",
       "      <td>A cryptic message from Bond’s past sends him o...</td>\n",
       "      <td>107.376788</td>\n",
       "      <td>[{\"name\": \"Columbia Pictures\", \"id\": 5}, {\"nam...</td>\n",
       "      <td>[{\"iso_3166_1\": \"GB\", \"name\": \"United Kingdom\"...</td>\n",
       "      <td>2015-10-26</td>\n",
       "      <td>880674609</td>\n",
       "      <td>148.0</td>\n",
       "      <td>[{\"iso_639_1\": \"fr\", \"name\": \"Fran\\u00e7ais\"},...</td>\n",
       "      <td>Released</td>\n",
       "      <td>A Plan No One Escapes</td>\n",
       "      <td>Spectre</td>\n",
       "      <td>6.3</td>\n",
       "      <td>4466</td>\n",
       "    </tr>\n",
       "    <tr>\n",
       "      <th>3</th>\n",
       "      <td>250000000</td>\n",
       "      <td>[{\"id\": 28, \"name\": \"Action\"}, {\"id\": 80, \"nam...</td>\n",
       "      <td>http://www.thedarkknightrises.com/</td>\n",
       "      <td>49026</td>\n",
       "      <td>[{\"id\": 849, \"name\": \"dc comics\"}, {\"id\": 853,...</td>\n",
       "      <td>en</td>\n",
       "      <td>The Dark Knight Rises</td>\n",
       "      <td>Following the death of District Attorney Harve...</td>\n",
       "      <td>112.312950</td>\n",
       "      <td>[{\"name\": \"Legendary Pictures\", \"id\": 923}, {\"...</td>\n",
       "      <td>[{\"iso_3166_1\": \"US\", \"name\": \"United States o...</td>\n",
       "      <td>2012-07-16</td>\n",
       "      <td>1084939099</td>\n",
       "      <td>165.0</td>\n",
       "      <td>[{\"iso_639_1\": \"en\", \"name\": \"English\"}]</td>\n",
       "      <td>Released</td>\n",
       "      <td>The Legend Ends</td>\n",
       "      <td>The Dark Knight Rises</td>\n",
       "      <td>7.6</td>\n",
       "      <td>9106</td>\n",
       "    </tr>\n",
       "    <tr>\n",
       "      <th>4</th>\n",
       "      <td>260000000</td>\n",
       "      <td>[{\"id\": 28, \"name\": \"Action\"}, {\"id\": 12, \"nam...</td>\n",
       "      <td>http://movies.disney.com/john-carter</td>\n",
       "      <td>49529</td>\n",
       "      <td>[{\"id\": 818, \"name\": \"based on novel\"}, {\"id\":...</td>\n",
       "      <td>en</td>\n",
       "      <td>John Carter</td>\n",
       "      <td>John Carter is a war-weary, former military ca...</td>\n",
       "      <td>43.926995</td>\n",
       "      <td>[{\"name\": \"Walt Disney Pictures\", \"id\": 2}]</td>\n",
       "      <td>[{\"iso_3166_1\": \"US\", \"name\": \"United States o...</td>\n",
       "      <td>2012-03-07</td>\n",
       "      <td>284139100</td>\n",
       "      <td>132.0</td>\n",
       "      <td>[{\"iso_639_1\": \"en\", \"name\": \"English\"}]</td>\n",
       "      <td>Released</td>\n",
       "      <td>Lost in our world, found in another.</td>\n",
       "      <td>John Carter</td>\n",
       "      <td>6.1</td>\n",
       "      <td>2124</td>\n",
       "    </tr>\n",
       "  </tbody>\n",
       "</table>\n",
       "</div>"
      ],
      "text/plain": [
       "      budget                                             genres  \\\n",
       "0  237000000  [{\"id\": 28, \"name\": \"Action\"}, {\"id\": 12, \"nam...   \n",
       "1  300000000  [{\"id\": 12, \"name\": \"Adventure\"}, {\"id\": 14, \"...   \n",
       "2  245000000  [{\"id\": 28, \"name\": \"Action\"}, {\"id\": 12, \"nam...   \n",
       "3  250000000  [{\"id\": 28, \"name\": \"Action\"}, {\"id\": 80, \"nam...   \n",
       "4  260000000  [{\"id\": 28, \"name\": \"Action\"}, {\"id\": 12, \"nam...   \n",
       "\n",
       "                                       homepage      id  \\\n",
       "0                   http://www.avatarmovie.com/   19995   \n",
       "1  http://disney.go.com/disneypictures/pirates/     285   \n",
       "2   http://www.sonypictures.com/movies/spectre/  206647   \n",
       "3            http://www.thedarkknightrises.com/   49026   \n",
       "4          http://movies.disney.com/john-carter   49529   \n",
       "\n",
       "                                            keywords original_language  \\\n",
       "0  [{\"id\": 1463, \"name\": \"culture clash\"}, {\"id\":...                en   \n",
       "1  [{\"id\": 270, \"name\": \"ocean\"}, {\"id\": 726, \"na...                en   \n",
       "2  [{\"id\": 470, \"name\": \"spy\"}, {\"id\": 818, \"name...                en   \n",
       "3  [{\"id\": 849, \"name\": \"dc comics\"}, {\"id\": 853,...                en   \n",
       "4  [{\"id\": 818, \"name\": \"based on novel\"}, {\"id\":...                en   \n",
       "\n",
       "                             original_title  \\\n",
       "0                                    Avatar   \n",
       "1  Pirates of the Caribbean: At World's End   \n",
       "2                                   Spectre   \n",
       "3                     The Dark Knight Rises   \n",
       "4                               John Carter   \n",
       "\n",
       "                                            overview  popularity  \\\n",
       "0  In the 22nd century, a paraplegic Marine is di...  150.437577   \n",
       "1  Captain Barbossa, long believed to be dead, ha...  139.082615   \n",
       "2  A cryptic message from Bond’s past sends him o...  107.376788   \n",
       "3  Following the death of District Attorney Harve...  112.312950   \n",
       "4  John Carter is a war-weary, former military ca...   43.926995   \n",
       "\n",
       "                                production_companies  \\\n",
       "0  [{\"name\": \"Ingenious Film Partners\", \"id\": 289...   \n",
       "1  [{\"name\": \"Walt Disney Pictures\", \"id\": 2}, {\"...   \n",
       "2  [{\"name\": \"Columbia Pictures\", \"id\": 5}, {\"nam...   \n",
       "3  [{\"name\": \"Legendary Pictures\", \"id\": 923}, {\"...   \n",
       "4        [{\"name\": \"Walt Disney Pictures\", \"id\": 2}]   \n",
       "\n",
       "                                production_countries release_date     revenue  \\\n",
       "0  [{\"iso_3166_1\": \"US\", \"name\": \"United States o...   2009-12-10  2787965087   \n",
       "1  [{\"iso_3166_1\": \"US\", \"name\": \"United States o...   2007-05-19   961000000   \n",
       "2  [{\"iso_3166_1\": \"GB\", \"name\": \"United Kingdom\"...   2015-10-26   880674609   \n",
       "3  [{\"iso_3166_1\": \"US\", \"name\": \"United States o...   2012-07-16  1084939099   \n",
       "4  [{\"iso_3166_1\": \"US\", \"name\": \"United States o...   2012-03-07   284139100   \n",
       "\n",
       "   runtime                                   spoken_languages    status  \\\n",
       "0    162.0  [{\"iso_639_1\": \"en\", \"name\": \"English\"}, {\"iso...  Released   \n",
       "1    169.0           [{\"iso_639_1\": \"en\", \"name\": \"English\"}]  Released   \n",
       "2    148.0  [{\"iso_639_1\": \"fr\", \"name\": \"Fran\\u00e7ais\"},...  Released   \n",
       "3    165.0           [{\"iso_639_1\": \"en\", \"name\": \"English\"}]  Released   \n",
       "4    132.0           [{\"iso_639_1\": \"en\", \"name\": \"English\"}]  Released   \n",
       "\n",
       "                                          tagline  \\\n",
       "0                     Enter the World of Pandora.   \n",
       "1  At the end of the world, the adventure begins.   \n",
       "2                           A Plan No One Escapes   \n",
       "3                                 The Legend Ends   \n",
       "4            Lost in our world, found in another.   \n",
       "\n",
       "                                      title  vote_average  vote_count  \n",
       "0                                    Avatar           7.2       11800  \n",
       "1  Pirates of the Caribbean: At World's End           6.9        4500  \n",
       "2                                   Spectre           6.3        4466  \n",
       "3                     The Dark Knight Rises           7.6        9106  \n",
       "4                               John Carter           6.1        2124  "
      ]
     },
     "execution_count": 3,
     "metadata": {},
     "output_type": "execute_result"
    }
   ],
   "source": [
    "df.head()"
   ]
  },
  {
   "cell_type": "code",
   "execution_count": 4,
   "metadata": {},
   "outputs": [
    {
     "data": {
      "text/plain": [
       "229     Star Wars: Episode III - Revenge of the Sith\n",
       "230     Star Wars: Episode II - Attack of the Clones\n",
       "233        Star Wars: Episode I - The Phantom Menace\n",
       "2912                                       Star Wars\n",
       "3208                 Star Wars: Clone Wars: Volume 1\n",
       "Name: title, dtype: object"
      ]
     },
     "execution_count": 4,
     "metadata": {},
     "output_type": "execute_result"
    }
   ],
   "source": [
    "# Tìm các bộ phim có tên Star wars\n",
    "res = df[df['title'].str.contains(\"Star Wars\", case=False)]\n",
    "res['title']"
   ]
  },
  {
   "cell_type": "code",
   "execution_count": 5,
   "metadata": {
    "colab": {
     "base_uri": "https://localhost:8080/",
     "height": 711
    },
    "id": "w5QGn73Qz3N6",
    "outputId": "e6c7120c-9d00-4cba-f7b9-92dbfdc359b2"
   },
   "outputs": [
    {
     "data": {
      "text/plain": [
       "budget                                                          237000000\n",
       "genres                  [{\"id\": 28, \"name\": \"Action\"}, {\"id\": 12, \"nam...\n",
       "homepage                                      http://www.avatarmovie.com/\n",
       "id                                                                  19995\n",
       "keywords                [{\"id\": 1463, \"name\": \"culture clash\"}, {\"id\":...\n",
       "original_language                                                      en\n",
       "original_title                                                     Avatar\n",
       "overview                In the 22nd century, a paraplegic Marine is di...\n",
       "popularity                                                     150.437577\n",
       "production_companies    [{\"name\": \"Ingenious Film Partners\", \"id\": 289...\n",
       "production_countries    [{\"iso_3166_1\": \"US\", \"name\": \"United States o...\n",
       "release_date                                                   2009-12-10\n",
       "revenue                                                        2787965087\n",
       "runtime                                                             162.0\n",
       "spoken_languages        [{\"iso_639_1\": \"en\", \"name\": \"English\"}, {\"iso...\n",
       "status                                                           Released\n",
       "tagline                                       Enter the World of Pandora.\n",
       "title                                                              Avatar\n",
       "vote_average                                                          7.2\n",
       "vote_count                                                          11800\n",
       "Name: 0, dtype: object"
      ]
     },
     "execution_count": 5,
     "metadata": {},
     "output_type": "execute_result"
    }
   ],
   "source": [
    "x = df.iloc[0]\n",
    "x"
   ]
  },
  {
   "cell_type": "code",
   "execution_count": 6,
   "metadata": {
    "colab": {
     "base_uri": "https://localhost:8080/",
     "height": 36
    },
    "id": "OVAPRtLN0DoH",
    "outputId": "298a1d77-7950-4967-e40c-52d8fc23ba03"
   },
   "outputs": [
    {
     "data": {
      "text/plain": [
       "'[{\"id\": 28, \"name\": \"Action\"}, {\"id\": 12, \"name\": \"Adventure\"}, {\"id\": 14, \"name\": \"Fantasy\"}, {\"id\": 878, \"name\": \"Science Fiction\"}]'"
      ]
     },
     "execution_count": 6,
     "metadata": {},
     "output_type": "execute_result"
    }
   ],
   "source": [
    "x['genres']"
   ]
  },
  {
   "cell_type": "code",
   "execution_count": 7,
   "metadata": {
    "colab": {
     "base_uri": "https://localhost:8080/",
     "height": 105
    },
    "id": "gjF7P-KF0RfB",
    "outputId": "2ef21b28-fa7b-42f6-8d53-3ae806c9f5d0"
   },
   "outputs": [
    {
     "data": {
      "text/plain": [
       "'[{\"id\": 1463, \"name\": \"culture clash\"}, {\"id\": 2964, \"name\": \"future\"}, {\"id\": 3386, \"name\": \"space war\"}, {\"id\": 3388, \"name\": \"space colony\"}, {\"id\": 3679, \"name\": \"society\"}, {\"id\": 3801, \"name\": \"space travel\"}, {\"id\": 9685, \"name\": \"futuristic\"}, {\"id\": 9840, \"name\": \"romance\"}, {\"id\": 9882, \"name\": \"space\"}, {\"id\": 9951, \"name\": \"alien\"}, {\"id\": 10148, \"name\": \"tribe\"}, {\"id\": 10158, \"name\": \"alien planet\"}, {\"id\": 10987, \"name\": \"cgi\"}, {\"id\": 11399, \"name\": \"marine\"}, {\"id\": 13065, \"name\": \"soldier\"}, {\"id\": 14643, \"name\": \"battle\"}, {\"id\": 14720, \"name\": \"love affair\"}, {\"id\": 165431, \"name\": \"anti war\"}, {\"id\": 193554, \"name\": \"power relations\"}, {\"id\": 206690, \"name\": \"mind and soul\"}, {\"id\": 209714, \"name\": \"3d\"}]'"
      ]
     },
     "execution_count": 7,
     "metadata": {},
     "output_type": "execute_result"
    }
   ],
   "source": [
    "x['keywords']"
   ]
  },
  {
   "cell_type": "code",
   "execution_count": 8,
   "metadata": {
    "id": "h7PxaUnW0dRP"
   },
   "outputs": [],
   "source": [
    "j = json.loads(x['genres'])"
   ]
  },
  {
   "cell_type": "code",
   "execution_count": 9,
   "metadata": {
    "colab": {
     "base_uri": "https://localhost:8080/"
    },
    "id": "4Rnq9ZQD0ja1",
    "outputId": "ee6f9304-1d62-4997-be0a-d51b569349d9"
   },
   "outputs": [
    {
     "data": {
      "text/plain": [
       "[{'id': 28, 'name': 'Action'},\n",
       " {'id': 12, 'name': 'Adventure'},\n",
       " {'id': 14, 'name': 'Fantasy'},\n",
       " {'id': 878, 'name': 'Science Fiction'}]"
      ]
     },
     "execution_count": 9,
     "metadata": {},
     "output_type": "execute_result"
    }
   ],
   "source": [
    "j"
   ]
  },
  {
   "cell_type": "code",
   "execution_count": 10,
   "metadata": {
    "colab": {
     "base_uri": "https://localhost:8080/",
     "height": 36
    },
    "id": "X4IsXRYe0lCN",
    "outputId": "b92c27f1-5c7f-41ba-8e21-0f1aa903b9b2"
   },
   "outputs": [
    {
     "data": {
      "text/plain": [
       "'Action Adventure Fantasy ScienceFiction'"
      ]
     },
     "execution_count": 10,
     "metadata": {},
     "output_type": "execute_result"
    }
   ],
   "source": [
    "' '.join(''.join(jj['name'].split()) for jj in j)"
   ]
  },
  {
   "cell_type": "markdown",
   "metadata": {},
   "source": [
    "Ghép thể loại và từ khóa thành 1 chuỗi"
   ]
  },
  {
   "cell_type": "code",
   "execution_count": 11,
   "metadata": {
    "id": "pKcAl0P701Vk"
   },
   "outputs": [],
   "source": [
    "def genres_and_keywords_to_string(row):\n",
    "  genres = json.loads(row['genres'])\n",
    "  genres = ' '.join(''.join(j['name'].split()) for j in genres)\n",
    "\n",
    "  keywords = json.loads(row['keywords'])\n",
    "  keywords = ' '.join(''.join(j['name'].split()) for j in keywords)\n",
    "  return \"%s %s\" % (genres, keywords)"
   ]
  },
  {
   "cell_type": "code",
   "execution_count": 12,
   "metadata": {
    "id": "n5gGswtn2sY9"
   },
   "outputs": [],
   "source": [
    "#Thêm 1 cột tên 'string' vào dataframe (df) và áp dụng hàm tạo chuỗi\n",
    "df['string'] = df.apply(genres_and_keywords_to_string, axis=1)"
   ]
  },
  {
   "cell_type": "code",
   "execution_count": 13,
   "metadata": {
    "colab": {
     "base_uri": "https://localhost:8080/",
     "height": 53
    },
    "id": "InC8hF5L3Iil",
    "outputId": "71f3f45f-b35c-4f69-c952-c21d41db6700"
   },
   "outputs": [
    {
     "data": {
      "text/plain": [
       "'Action Adventure Fantasy ScienceFiction cultureclash future spacewar spacecolony society spacetravel futuristic romance space alien tribe alienplanet cgi marine soldier battle loveaffair antiwar powerrelations mindandsoul 3d'"
      ]
     },
     "execution_count": 13,
     "metadata": {},
     "output_type": "execute_result"
    }
   ],
   "source": [
    "df['string'][0]"
   ]
  },
  {
   "cell_type": "code",
   "execution_count": 14,
   "metadata": {
    "id": "2UDjRg0m3KAJ"
   },
   "outputs": [],
   "source": [
    "# Áp dụng model Tfidf với số thuộc tính nhiều nhất là 2000\n",
    "tfidf = TfidfVectorizer(max_features=2000)\n",
    "X = tfidf.fit_transform(df['string'])"
   ]
  },
  {
   "cell_type": "code",
   "execution_count": 15,
   "metadata": {
    "colab": {
     "base_uri": "https://localhost:8080/"
    },
    "id": "TnuOvLvb32PW",
    "outputId": "01a46ba6-4c85-4afb-dd02-ebc20591a367"
   },
   "outputs": [
    {
     "name": "stdout",
     "output_type": "stream",
     "text": [
      "['18thcentury' '1910s' '1930s' ... 'zombie' 'zombieapocalypse' 'zoo']\n"
     ]
    }
   ],
   "source": [
    "print(tfidf.get_feature_names_out())"
   ]
  },
  {
   "cell_type": "code",
   "execution_count": 16,
   "metadata": {
    "colab": {
     "base_uri": "https://localhost:8080/"
    },
    "id": "OVWM2xq95eco",
    "outputId": "08917b49-608b-4832-8272-d65c5564c1d8"
   },
   "outputs": [
    {
     "data": {
      "text/plain": [
       "<4803x2000 sparse matrix of type '<class 'numpy.float64'>'\n",
       "\twith 37285 stored elements in Compressed Sparse Row format>"
      ]
     },
     "execution_count": 16,
     "metadata": {},
     "output_type": "execute_result"
    }
   ],
   "source": [
    "X"
   ]
  },
  {
   "cell_type": "code",
   "execution_count": 17,
   "metadata": {
    "colab": {
     "base_uri": "https://localhost:8080/",
     "height": 489
    },
    "id": "WkATlOj75zuu",
    "outputId": "7775cd46-ec9c-4bab-a3ed-40d8b9ba456f"
   },
   "outputs": [
    {
     "data": {
      "text/plain": [
       "title\n",
       "Avatar                                         0\n",
       "Pirates of the Caribbean: At World's End       1\n",
       "Spectre                                        2\n",
       "The Dark Knight Rises                          3\n",
       "John Carter                                    4\n",
       "                                            ... \n",
       "El Mariachi                                 4798\n",
       "Newlyweds                                   4799\n",
       "Signed, Sealed, Delivered                   4800\n",
       "Shanghai Calling                            4801\n",
       "My Date with Drew                           4802\n",
       "Length: 4803, dtype: int64"
      ]
     },
     "execution_count": 17,
     "metadata": {},
     "output_type": "execute_result"
    }
   ],
   "source": [
    "#Gán index vào movie\n",
    "movie_idx = pd.Series(df.index, index=df['title'])\n",
    "movie_idx"
   ]
  },
  {
   "cell_type": "code",
   "execution_count": 18,
   "metadata": {
    "id": "1KAPLgEI7QOa"
   },
   "outputs": [],
   "source": [
    "idx = movie_idx['Star Wars: Episode III - Revenge of the Sith']"
   ]
  },
  {
   "cell_type": "code",
   "execution_count": 19,
   "metadata": {
    "colab": {
     "base_uri": "https://localhost:8080/"
    },
    "id": "_sBBV6hzM-h5",
    "outputId": "18c1e045-61da-44fa-fa30-500b52b89031"
   },
   "outputs": [
    {
     "data": {
      "text/plain": [
       "229"
      ]
     },
     "execution_count": 19,
     "metadata": {},
     "output_type": "execute_result"
    }
   ],
   "source": [
    "idx"
   ]
  },
  {
   "cell_type": "code",
   "execution_count": 20,
   "metadata": {
    "id": "FU4d44xzM_K_"
   },
   "outputs": [],
   "source": [
    "query = X[idx]"
   ]
  },
  {
   "cell_type": "code",
   "execution_count": 21,
   "metadata": {
    "colab": {
     "base_uri": "https://localhost:8080/"
    },
    "id": "yJHuEyU5NDFn",
    "outputId": "7098028e-3695-44ce-9dce-512c1592045b"
   },
   "outputs": [
    {
     "data": {
      "text/plain": [
       "array([[0., 0., 0., ..., 0., 0., 0.]])"
      ]
     },
     "execution_count": 21,
     "metadata": {},
     "output_type": "execute_result"
    }
   ],
   "source": [
    "query.toarray()"
   ]
  },
  {
   "cell_type": "code",
   "execution_count": 22,
   "metadata": {
    "id": "ibwxvqzdNEMj"
   },
   "outputs": [],
   "source": [
    "scores = cosine_similarity(query, X)"
   ]
  },
  {
   "cell_type": "code",
   "execution_count": 23,
   "metadata": {
    "colab": {
     "base_uri": "https://localhost:8080/"
    },
    "id": "bmZmzr32OLUm",
    "outputId": "b12df273-c204-4827-8704-1eb42271c017"
   },
   "outputs": [
    {
     "data": {
      "text/plain": [
       "array([[0.05216649, 0.03139438, 0.06200652, ..., 0.        , 0.        ,\n",
       "        0.        ]])"
      ]
     },
     "execution_count": 23,
     "metadata": {},
     "output_type": "execute_result"
    }
   ],
   "source": [
    "scores"
   ]
  },
  {
   "cell_type": "code",
   "execution_count": 24,
   "metadata": {
    "id": "VhUKa5-9OMLQ"
   },
   "outputs": [],
   "source": [
    "scores = scores.flatten()"
   ]
  },
  {
   "cell_type": "code",
   "execution_count": 25,
   "metadata": {
    "colab": {
     "base_uri": "https://localhost:8080/",
     "height": 447
    },
    "id": "7YHYH093OiuP",
    "outputId": "fb1d02f7-7f76-41a3-9fc4-fddbf601442a"
   },
   "outputs": [
    {
     "data": {
      "text/plain": [
       "[<matplotlib.lines.Line2D at 0x16d25955a50>]"
      ]
     },
     "execution_count": 25,
     "metadata": {},
     "output_type": "execute_result"
    },
    {
     "data": {
      "image/png": "[encoded data removed]",
      "text/plain": [
       "<Figure size 640x480 with 1 Axes>"
      ]
     },
     "metadata": {},
     "output_type": "display_data"
    }
   ],
   "source": [
    "plt.plot(scores)"
   ]
  },
  {
   "cell_type": "code",
   "execution_count": 26,
   "metadata": {
    "colab": {
     "base_uri": "https://localhost:8080/"
    },
    "id": "7zVFamHWOsoY",
    "outputId": "da29f4f1-1eda-4280-806d-c52687003857"
   },
   "outputs": [
    {
     "data": {
      "text/plain": [
       "array([ 229,  581,  230, ..., 2286, 2269, 4802], dtype=int64)"
      ]
     },
     "execution_count": 26,
     "metadata": {},
     "output_type": "execute_result"
    }
   ],
   "source": [
    "'''\n",
    "Biểu thức (-scores).argsort() trong Python được sử dụng để sắp xếp các phần tử của mảng scores theo thứ tự giảm dần\n",
    "và trả về chỉ số của các phần tử theo thứ tự đó. Hãy phân tích từng phần của biểu thức:\n",
    "'''\n",
    "(-scores).argsort()\n"
   ]
  },
  {
   "cell_type": "code",
   "execution_count": 27,
   "metadata": {
    "colab": {
     "base_uri": "https://localhost:8080/",
     "height": 447
    },
    "id": "uQzOM7hePV9-",
    "outputId": "48434f7f-5838-4bfd-8128-22fb24698c53"
   },
   "outputs": [
    {
     "data": {
      "text/plain": [
       "[<matplotlib.lines.Line2D at 0x16d25e8db50>]"
      ]
     },
     "execution_count": 27,
     "metadata": {},
     "output_type": "execute_result"
    },
    {
     "data": {
      "image/png": "[encoded data removed]",
      "text/plain": [
       "<Figure size 640x480 with 1 Axes>"
      ]
     },
     "metadata": {},
     "output_type": "display_data"
    }
   ],
   "source": [
    "plt.plot(scores[(-scores).argsort()])"
   ]
  },
  {
   "cell_type": "code",
   "execution_count": 28,
   "metadata": {
    "id": "fsBFIErQP1S1"
   },
   "outputs": [],
   "source": [
    "# get top 5\n",
    "# exclude self (similarity between query and itself yields max score)\n",
    "recommended_idx = (-scores).argsort()[1:6]"
   ]
  },
  {
   "cell_type": "code",
   "execution_count": 29,
   "metadata": {
    "colab": {
     "base_uri": "https://localhost:8080/",
     "height": 241
    },
    "id": "87tKExmrQXDM",
    "outputId": "cd022dcb-9fc5-4834-b594-d8f43374667f"
   },
   "outputs": [
    {
     "data": {
      "text/plain": [
       "581                          Star Trek: Insurrection\n",
       "230     Star Wars: Episode II - Attack of the Clones\n",
       "2912                                       Star Wars\n",
       "1490                              Return of the Jedi\n",
       "3208                 Star Wars: Clone Wars: Volume 1\n",
       "Name: title, dtype: object"
      ]
     },
     "execution_count": 29,
     "metadata": {},
     "output_type": "execute_result"
    }
   ],
   "source": [
    "df['title'].iloc[recommended_idx]"
   ]
  },
  {
   "cell_type": "markdown",
   "metadata": {},
   "source": [
    "### Tạo hàm thực hiện chức năng gợi ý phim dựa trên sự tương đồng giữa các phim"
   ]
  },
  {
   "cell_type": "code",
   "execution_count": 30,
   "metadata": {
    "id": "pxT6MFjaQa7_"
   },
   "outputs": [],
   "source": [
    "def recommend(title):\n",
    "    if title not in movie_idx:\n",
    "        print(\"Không có bộ phim này trong danh sách.\")\n",
    "        return\n",
    "    else:\n",
    "        idx = movie_idx[title]\n",
    "        #Kiểm tra xem idx có phải là một đối \n",
    "        # tượng của pd.Series hay không. Điều này có thể xảy ra nếu có \n",
    "        # nhiều kết quả trùng khớp (ví dụ: nhiều bộ phim có cùng tên).\n",
    "        if type(idx) == pd.Series: \n",
    "            idx = idx.iloc[0]\n",
    "        query = X[idx]\n",
    "        scores = cosine_similarity(query, X)\n",
    "        scores = scores.flatten()\n",
    "        recommend_idx = (-scores).argsort()[1:6]\n",
    "        return df['title'].iloc[recommended_idx]"
   ]
  },
  {
   "cell_type": "code",
   "execution_count": 31,
   "metadata": {
    "colab": {
     "base_uri": "https://localhost:8080/"
    },
    "id": "zGh5gKxXR5zs",
    "outputId": "7d1113cb-1c25-4e15-9b6c-5e11cd502935"
   },
   "outputs": [
    {
     "data": {
      "text/plain": [
       "581                          Star Trek: Insurrection\n",
       "230     Star Wars: Episode II - Attack of the Clones\n",
       "2912                                       Star Wars\n",
       "1490                              Return of the Jedi\n",
       "3208                 Star Wars: Clone Wars: Volume 1\n",
       "Name: title, dtype: object"
      ]
     },
     "execution_count": 31,
     "metadata": {},
     "output_type": "execute_result"
    }
   ],
   "source": [
    "recommend('Mortal Kombat')"
   ]
  },
  {
   "cell_type": "code",
   "execution_count": 32,
   "metadata": {
    "colab": {
     "base_uri": "https://localhost:8080/"
    },
    "id": "gVZmtfc7R9NI",
    "outputId": "a3df8262-dc0c-4284-c5da-551efd55b2b3"
   },
   "outputs": [
    {
     "name": "stdout",
     "output_type": "stream",
     "text": [
      "Không có bộ phim này trong danh sách.\n",
      "None\n"
     ]
    }
   ],
   "source": [
    "print(recommend('sad'))"
   ]
  },
  {
   "cell_type": "markdown",
   "metadata": {},
   "source": [
    "## Triển khai Model"
   ]
  },
  {
   "cell_type": "code",
   "execution_count": 1,
   "metadata": {},
   "outputs": [],
   "source": [
    "import pandas as pd\n",
    "import json\n",
    "import pickle\n",
    "from sklearn.feature_extraction.text import TfidfVectorizer\n",
    "from sklearn.metrics.pairwise import cosine_similarity\n",
    "\n",
    "class MovieRecommender:\n",
    "    def __init__(self, data_path):\n",
    "        # Đọc dữ liệu\n",
    "        self.df = pd.read_csv(data_path)\n",
    "        \n",
    "        # Xử lý genres và keywords thành chuỗi\n",
    "        self.df['string'] = self.df.apply(self.genres_and_keywords_to_string, axis=1)\n",
    "        \n",
    "        # Tạo TF-IDF vectorizer và fit-transform dữ liệu\n",
    "        self.tfidf = TfidfVectorizer(max_features=2000)\n",
    "        self.X = self.tfidf.fit_transform(self.df['string'])\n",
    "        \n",
    "        # Tạo Series để dễ dàng truy xuất movie index\n",
    "        self.movie_idx = pd.Series(self.df.index, index=self.df['title'])\n",
    "    \n",
    "    @staticmethod\n",
    "    def genres_and_keywords_to_string(row):\n",
    "        genres = json.loads(row['genres'])\n",
    "        genres = ' '.join(''.join(j['name'].split()) for j in genres)\n",
    "\n",
    "        keywords = json.loads(row['keywords'])\n",
    "        keywords = ' '.join(''.join(j['name'].split()) for j in keywords)\n",
    "        return \"%s %s\" % (genres, keywords)\n",
    "    \n",
    "    def recommend(self, title):\n",
    "        if title not in self.movie_idx:\n",
    "            print(\"Không có bộ phim này trong danh sách.\")\n",
    "            return\n",
    "        else:\n",
    "            idx = self.movie_idx[title]\n",
    "            if type(idx) == pd.Series:  # Kiểm tra xem có nhiều phim trùng tên không\n",
    "                idx = idx.iloc[0]\n",
    "            query = self.X[idx]\n",
    "            scores = cosine_similarity(query, self.X)\n",
    "            scores = scores.flatten()\n",
    "            recommended_idx = (-scores).argsort()[1:6]\n",
    "            return self.df['title'].iloc[recommended_idx]\n",
    "\n",
    "# Tạo đối tượng và lưu vào file pickle\n",
    "movie_recommender = MovieRecommender('tmdb_5000_movies.csv')\n",
    "with open('movie_recommender_2.pkl', 'wb') as file:\n",
    "    pickle.dump(movie_recommender, file)\n"
   ]
  },
  {
   "cell_type": "code",
   "execution_count": 38,
   "metadata": {},
   "outputs": [],
   "source": [
    "movie_recommender = MovieRecommender('tmdb_5000_movies.csv')\n",
    "with open('movie_recommender_2.pkl', 'wb') as file:\n",
    "    dill.dump(movie_recommender, file)"
   ]
  },
  {
   "cell_type": "code",
   "execution_count": 2,
   "metadata": {},
   "outputs": [
    {
     "name": "stdout",
     "output_type": "stream",
     "text": [
      "119                         Batman Begins\n",
      "428                        Batman Returns\n",
      "3                   The Dark Knight Rises\n",
      "9      Batman v Superman: Dawn of Justice\n",
      "210                        Batman & Robin\n",
      "Name: title, dtype: object\n"
     ]
    }
   ],
   "source": [
    "import dill\n",
    "\n",
    "with open('movie_recommender_2.pkl', 'rb') as file:\n",
    "    movie_recommender = dill.load(file)\n",
    "print(movie_recommender.recommend('The Dark Knight'))\n"
   ]
  },
  {
   "cell_type": "code",
   "execution_count": null,
   "metadata": {},
   "outputs": [],
   "source": []
  }
 ],
 "metadata": {
  "colab": {
   "provenance": []
  },
  "kernelspec": {
   "display_name": "Python 3 (ipykernel)",
   "language": "python",
   "name": "python3"
  },
  "language_info": {
   "codemirror_mode": {
    "name": "ipython",
    "version": 3
   },
   "file_extension": ".py",
   "mimetype": "text/x-python",
   "name": "python",
   "nbconvert_exporter": "python",
   "pygments_lexer": "ipython3",
   "version": "3.11.4"
  }
 },
 "nbformat": 4,
 "nbformat_minor": 4
}
