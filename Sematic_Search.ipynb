{
 "cells": [
  {
   "cell_type": "code",
   "execution_count": 1,
   "id": "7289caeb-7899-48a5-b709-5aa525436060",
   "metadata": {},
   "outputs": [
    {
     "name": "stdout",
     "output_type": "stream",
     "text": [
      "WARNING:tensorflow:From D:\\ai-env\\Lib\\site-packages\\tf_keras\\src\\losses.py:2976: The name tf.losses.sparse_softmax_cross_entropy is deprecated. Please use tf.compat.v1.losses.sparse_softmax_cross_entropy instead.\n",
      "\n"
     ]
    }
   ],
   "source": [
    "import pandas as pd\n",
    "from dotenv import load_dotenv\n",
    "from sentence_transformers import SentenceTransformer"
   ]
  },
  {
   "cell_type": "code",
   "execution_count": 2,
   "id": "60b62e40-1881-418e-9b88-6e5a2423c0d6",
   "metadata": {},
   "outputs": [
    {
     "data": {
      "text/plain": [
       "True"
      ]
     },
     "execution_count": 2,
     "metadata": {},
     "output_type": "execute_result"
    }
   ],
   "source": [
    "load_dotenv()"
   ]
  },
  {
   "cell_type": "code",
   "execution_count": 3,
   "id": "05fca12c-8b79-4941-be87-ee18bc6b6a2c",
   "metadata": {},
   "outputs": [],
   "source": [
    "import os"
   ]
  },
  {
   "cell_type": "code",
   "execution_count": 4,
   "id": "09f311b9-f836-48b3-a441-2fd42a280981",
   "metadata": {},
   "outputs": [],
   "source": [
    "PINECONE_API_KEY = os.getenv(\"PINECONE_API_KEY\")"
   ]
  },
  {
   "cell_type": "code",
   "execution_count": 32,
   "id": "d5d459c3-6655-4d51-87b4-2c02384f84e9",
   "metadata": {},
   "outputs": [],
   "source": [
    "df = pd.read_csv(\"./tmdb_5000_movies.csv\", encoding=\"utf-8\")"
   ]
  },
  {
   "cell_type": "code",
   "execution_count": 38,
   "id": "6ede501f-04d3-4639-99bd-4eb90e5452c3",
   "metadata": {},
   "outputs": [
    {
     "data": {
      "text/html": [
       "<div>\n",
       "<style scoped>\n",
       "    .dataframe tbody tr th:only-of-type {\n",
       "        vertical-align: middle;\n",
       "    }\n",
       "\n",
       "    .dataframe tbody tr th {\n",
       "        vertical-align: top;\n",
       "    }\n",
       "\n",
       "    .dataframe thead th {\n",
       "        text-align: right;\n",
       "    }\n",
       "</style>\n",
       "<table border=\"1\" class=\"dataframe\">\n",
       "  <thead>\n",
       "    <tr style=\"text-align: right;\">\n",
       "      <th></th>\n",
       "      <th>budget</th>\n",
       "      <th>genres</th>\n",
       "      <th>homepage</th>\n",
       "      <th>id</th>\n",
       "      <th>keywords</th>\n",
       "      <th>original_language</th>\n",
       "      <th>original_title</th>\n",
       "      <th>overview</th>\n",
       "      <th>popularity</th>\n",
       "      <th>production_companies</th>\n",
       "      <th>production_countries</th>\n",
       "      <th>release_date</th>\n",
       "      <th>revenue</th>\n",
       "      <th>runtime</th>\n",
       "      <th>spoken_languages</th>\n",
       "      <th>status</th>\n",
       "      <th>tagline</th>\n",
       "      <th>title</th>\n",
       "      <th>vote_average</th>\n",
       "      <th>vote_count</th>\n",
       "    </tr>\n",
       "  </thead>\n",
       "  <tbody>\n",
       "    <tr>\n",
       "      <th>0</th>\n",
       "      <td>237000000</td>\n",
       "      <td>[{\"id\": 28, \"name\": \"Action\"}, {\"id\": 12, \"nam...</td>\n",
       "      <td>http://www.avatarmovie.com/</td>\n",
       "      <td>19995</td>\n",
       "      <td>[{\"id\": 1463, \"name\": \"culture clash\"}, {\"id\":...</td>\n",
       "      <td>en</td>\n",
       "      <td>Avatar</td>\n",
       "      <td>In the 22nd century, a paraplegic Marine is di...</td>\n",
       "      <td>150.437577</td>\n",
       "      <td>[{\"name\": \"Ingenious Film Partners\", \"id\": 289...</td>\n",
       "      <td>[{\"iso_3166_1\": \"US\", \"name\": \"United States o...</td>\n",
       "      <td>2009-12-10</td>\n",
       "      <td>2787965087</td>\n",
       "      <td>162.0</td>\n",
       "      <td>[{\"iso_639_1\": \"en\", \"name\": \"English\"}, {\"iso...</td>\n",
       "      <td>Released</td>\n",
       "      <td>Enter the World of Pandora.</td>\n",
       "      <td>Avatar</td>\n",
       "      <td>7.2</td>\n",
       "      <td>11800</td>\n",
       "    </tr>\n",
       "    <tr>\n",
       "      <th>1</th>\n",
       "      <td>300000000</td>\n",
       "      <td>[{\"id\": 12, \"name\": \"Adventure\"}, {\"id\": 14, \"...</td>\n",
       "      <td>http://disney.go.com/disneypictures/pirates/</td>\n",
       "      <td>285</td>\n",
       "      <td>[{\"id\": 270, \"name\": \"ocean\"}, {\"id\": 726, \"na...</td>\n",
       "      <td>en</td>\n",
       "      <td>Pirates of the Caribbean: At World's End</td>\n",
       "      <td>Captain Barbossa, long believed to be dead, ha...</td>\n",
       "      <td>139.082615</td>\n",
       "      <td>[{\"name\": \"Walt Disney Pictures\", \"id\": 2}, {\"...</td>\n",
       "      <td>[{\"iso_3166_1\": \"US\", \"name\": \"United States o...</td>\n",
       "      <td>2007-05-19</td>\n",
       "      <td>961000000</td>\n",
       "      <td>169.0</td>\n",
       "      <td>[{\"iso_639_1\": \"en\", \"name\": \"English\"}]</td>\n",
       "      <td>Released</td>\n",
       "      <td>At the end of the world, the adventure begins.</td>\n",
       "      <td>Pirates of the Caribbean: At World's End</td>\n",
       "      <td>6.9</td>\n",
       "      <td>4500</td>\n",
       "    </tr>\n",
       "    <tr>\n",
       "      <th>2</th>\n",
       "      <td>245000000</td>\n",
       "      <td>[{\"id\": 28, \"name\": \"Action\"}, {\"id\": 12, \"nam...</td>\n",
       "      <td>http://www.sonypictures.com/movies/spectre/</td>\n",
       "      <td>206647</td>\n",
       "      <td>[{\"id\": 470, \"name\": \"spy\"}, {\"id\": 818, \"name...</td>\n",
       "      <td>en</td>\n",
       "      <td>Spectre</td>\n",
       "      <td>A cryptic message from Bond’s past sends him o...</td>\n",
       "      <td>107.376788</td>\n",
       "      <td>[{\"name\": \"Columbia Pictures\", \"id\": 5}, {\"nam...</td>\n",
       "      <td>[{\"iso_3166_1\": \"GB\", \"name\": \"United Kingdom\"...</td>\n",
       "      <td>2015-10-26</td>\n",
       "      <td>880674609</td>\n",
       "      <td>148.0</td>\n",
       "      <td>[{\"iso_639_1\": \"fr\", \"name\": \"Fran\\u00e7ais\"},...</td>\n",
       "      <td>Released</td>\n",
       "      <td>A Plan No One Escapes</td>\n",
       "      <td>Spectre</td>\n",
       "      <td>6.3</td>\n",
       "      <td>4466</td>\n",
       "    </tr>\n",
       "    <tr>\n",
       "      <th>3</th>\n",
       "      <td>250000000</td>\n",
       "      <td>[{\"id\": 28, \"name\": \"Action\"}, {\"id\": 80, \"nam...</td>\n",
       "      <td>http://www.thedarkknightrises.com/</td>\n",
       "      <td>49026</td>\n",
       "      <td>[{\"id\": 849, \"name\": \"dc comics\"}, {\"id\": 853,...</td>\n",
       "      <td>en</td>\n",
       "      <td>The Dark Knight Rises</td>\n",
       "      <td>Following the death of District Attorney Harve...</td>\n",
       "      <td>112.312950</td>\n",
       "      <td>[{\"name\": \"Legendary Pictures\", \"id\": 923}, {\"...</td>\n",
       "      <td>[{\"iso_3166_1\": \"US\", \"name\": \"United States o...</td>\n",
       "      <td>2012-07-16</td>\n",
       "      <td>1084939099</td>\n",
       "      <td>165.0</td>\n",
       "      <td>[{\"iso_639_1\": \"en\", \"name\": \"English\"}]</td>\n",
       "      <td>Released</td>\n",
       "      <td>The Legend Ends</td>\n",
       "      <td>The Dark Knight Rises</td>\n",
       "      <td>7.6</td>\n",
       "      <td>9106</td>\n",
       "    </tr>\n",
       "    <tr>\n",
       "      <th>4</th>\n",
       "      <td>260000000</td>\n",
       "      <td>[{\"id\": 28, \"name\": \"Action\"}, {\"id\": 12, \"nam...</td>\n",
       "      <td>http://movies.disney.com/john-carter</td>\n",
       "      <td>49529</td>\n",
       "      <td>[{\"id\": 818, \"name\": \"based on novel\"}, {\"id\":...</td>\n",
       "      <td>en</td>\n",
       "      <td>John Carter</td>\n",
       "      <td>John Carter is a war-weary, former military ca...</td>\n",
       "      <td>43.926995</td>\n",
       "      <td>[{\"name\": \"Walt Disney Pictures\", \"id\": 2}]</td>\n",
       "      <td>[{\"iso_3166_1\": \"US\", \"name\": \"United States o...</td>\n",
       "      <td>2012-03-07</td>\n",
       "      <td>284139100</td>\n",
       "      <td>132.0</td>\n",
       "      <td>[{\"iso_639_1\": \"en\", \"name\": \"English\"}]</td>\n",
       "      <td>Released</td>\n",
       "      <td>Lost in our world, found in another.</td>\n",
       "      <td>John Carter</td>\n",
       "      <td>6.1</td>\n",
       "      <td>2124</td>\n",
       "    </tr>\n",
       "    <tr>\n",
       "      <th>...</th>\n",
       "      <td>...</td>\n",
       "      <td>...</td>\n",
       "      <td>...</td>\n",
       "      <td>...</td>\n",
       "      <td>...</td>\n",
       "      <td>...</td>\n",
       "      <td>...</td>\n",
       "      <td>...</td>\n",
       "      <td>...</td>\n",
       "      <td>...</td>\n",
       "      <td>...</td>\n",
       "      <td>...</td>\n",
       "      <td>...</td>\n",
       "      <td>...</td>\n",
       "      <td>...</td>\n",
       "      <td>...</td>\n",
       "      <td>...</td>\n",
       "      <td>...</td>\n",
       "      <td>...</td>\n",
       "      <td>...</td>\n",
       "    </tr>\n",
       "    <tr>\n",
       "      <th>4798</th>\n",
       "      <td>220000</td>\n",
       "      <td>[{\"id\": 28, \"name\": \"Action\"}, {\"id\": 80, \"nam...</td>\n",
       "      <td>NaN</td>\n",
       "      <td>9367</td>\n",
       "      <td>[{\"id\": 5616, \"name\": \"united states\\u2013mexi...</td>\n",
       "      <td>es</td>\n",
       "      <td>El Mariachi</td>\n",
       "      <td>El Mariachi just wants to play his guitar and ...</td>\n",
       "      <td>14.269792</td>\n",
       "      <td>[{\"name\": \"Columbia Pictures\", \"id\": 5}]</td>\n",
       "      <td>[{\"iso_3166_1\": \"MX\", \"name\": \"Mexico\"}, {\"iso...</td>\n",
       "      <td>1992-09-04</td>\n",
       "      <td>2040920</td>\n",
       "      <td>81.0</td>\n",
       "      <td>[{\"iso_639_1\": \"es\", \"name\": \"Espa\\u00f1ol\"}]</td>\n",
       "      <td>Released</td>\n",
       "      <td>He didn't come looking for trouble, but troubl...</td>\n",
       "      <td>El Mariachi</td>\n",
       "      <td>6.6</td>\n",
       "      <td>238</td>\n",
       "    </tr>\n",
       "    <tr>\n",
       "      <th>4799</th>\n",
       "      <td>9000</td>\n",
       "      <td>[{\"id\": 35, \"name\": \"Comedy\"}, {\"id\": 10749, \"...</td>\n",
       "      <td>NaN</td>\n",
       "      <td>72766</td>\n",
       "      <td>[]</td>\n",
       "      <td>en</td>\n",
       "      <td>Newlyweds</td>\n",
       "      <td>A newlywed couple's honeymoon is upended by th...</td>\n",
       "      <td>0.642552</td>\n",
       "      <td>[]</td>\n",
       "      <td>[]</td>\n",
       "      <td>2011-12-26</td>\n",
       "      <td>0</td>\n",
       "      <td>85.0</td>\n",
       "      <td>[]</td>\n",
       "      <td>Released</td>\n",
       "      <td>A newlywed couple's honeymoon is upended by th...</td>\n",
       "      <td>Newlyweds</td>\n",
       "      <td>5.9</td>\n",
       "      <td>5</td>\n",
       "    </tr>\n",
       "    <tr>\n",
       "      <th>4800</th>\n",
       "      <td>0</td>\n",
       "      <td>[{\"id\": 35, \"name\": \"Comedy\"}, {\"id\": 18, \"nam...</td>\n",
       "      <td>http://www.hallmarkchannel.com/signedsealeddel...</td>\n",
       "      <td>231617</td>\n",
       "      <td>[{\"id\": 248, \"name\": \"date\"}, {\"id\": 699, \"nam...</td>\n",
       "      <td>en</td>\n",
       "      <td>Signed, Sealed, Delivered</td>\n",
       "      <td>\"Signed, Sealed, Delivered\" introduces a dedic...</td>\n",
       "      <td>1.444476</td>\n",
       "      <td>[{\"name\": \"Front Street Pictures\", \"id\": 3958}...</td>\n",
       "      <td>[{\"iso_3166_1\": \"US\", \"name\": \"United States o...</td>\n",
       "      <td>2013-10-13</td>\n",
       "      <td>0</td>\n",
       "      <td>120.0</td>\n",
       "      <td>[{\"iso_639_1\": \"en\", \"name\": \"English\"}]</td>\n",
       "      <td>Released</td>\n",
       "      <td>NaN</td>\n",
       "      <td>Signed, Sealed, Delivered</td>\n",
       "      <td>7.0</td>\n",
       "      <td>6</td>\n",
       "    </tr>\n",
       "    <tr>\n",
       "      <th>4801</th>\n",
       "      <td>0</td>\n",
       "      <td>[]</td>\n",
       "      <td>http://shanghaicalling.com/</td>\n",
       "      <td>126186</td>\n",
       "      <td>[]</td>\n",
       "      <td>en</td>\n",
       "      <td>Shanghai Calling</td>\n",
       "      <td>When ambitious New York attorney Sam is sent t...</td>\n",
       "      <td>0.857008</td>\n",
       "      <td>[]</td>\n",
       "      <td>[{\"iso_3166_1\": \"US\", \"name\": \"United States o...</td>\n",
       "      <td>2012-05-03</td>\n",
       "      <td>0</td>\n",
       "      <td>98.0</td>\n",
       "      <td>[{\"iso_639_1\": \"en\", \"name\": \"English\"}]</td>\n",
       "      <td>Released</td>\n",
       "      <td>A New Yorker in Shanghai</td>\n",
       "      <td>Shanghai Calling</td>\n",
       "      <td>5.7</td>\n",
       "      <td>7</td>\n",
       "    </tr>\n",
       "    <tr>\n",
       "      <th>4802</th>\n",
       "      <td>0</td>\n",
       "      <td>[{\"id\": 99, \"name\": \"Documentary\"}]</td>\n",
       "      <td>NaN</td>\n",
       "      <td>25975</td>\n",
       "      <td>[{\"id\": 1523, \"name\": \"obsession\"}, {\"id\": 224...</td>\n",
       "      <td>en</td>\n",
       "      <td>My Date with Drew</td>\n",
       "      <td>Ever since the second grade when he first saw ...</td>\n",
       "      <td>1.929883</td>\n",
       "      <td>[{\"name\": \"rusty bear entertainment\", \"id\": 87...</td>\n",
       "      <td>[{\"iso_3166_1\": \"US\", \"name\": \"United States o...</td>\n",
       "      <td>2005-08-05</td>\n",
       "      <td>0</td>\n",
       "      <td>90.0</td>\n",
       "      <td>[{\"iso_639_1\": \"en\", \"name\": \"English\"}]</td>\n",
       "      <td>Released</td>\n",
       "      <td>NaN</td>\n",
       "      <td>My Date with Drew</td>\n",
       "      <td>6.3</td>\n",
       "      <td>16</td>\n",
       "    </tr>\n",
       "  </tbody>\n",
       "</table>\n",
       "<p>4803 rows × 20 columns</p>\n",
       "</div>"
      ],
      "text/plain": [
       "         budget                                             genres  \\\n",
       "0     237000000  [{\"id\": 28, \"name\": \"Action\"}, {\"id\": 12, \"nam...   \n",
       "1     300000000  [{\"id\": 12, \"name\": \"Adventure\"}, {\"id\": 14, \"...   \n",
       "2     245000000  [{\"id\": 28, \"name\": \"Action\"}, {\"id\": 12, \"nam...   \n",
       "3     250000000  [{\"id\": 28, \"name\": \"Action\"}, {\"id\": 80, \"nam...   \n",
       "4     260000000  [{\"id\": 28, \"name\": \"Action\"}, {\"id\": 12, \"nam...   \n",
       "...         ...                                                ...   \n",
       "4798     220000  [{\"id\": 28, \"name\": \"Action\"}, {\"id\": 80, \"nam...   \n",
       "4799       9000  [{\"id\": 35, \"name\": \"Comedy\"}, {\"id\": 10749, \"...   \n",
       "4800          0  [{\"id\": 35, \"name\": \"Comedy\"}, {\"id\": 18, \"nam...   \n",
       "4801          0                                                 []   \n",
       "4802          0                [{\"id\": 99, \"name\": \"Documentary\"}]   \n",
       "\n",
       "                                               homepage      id  \\\n",
       "0                           http://www.avatarmovie.com/   19995   \n",
       "1          http://disney.go.com/disneypictures/pirates/     285   \n",
       "2           http://www.sonypictures.com/movies/spectre/  206647   \n",
       "3                    http://www.thedarkknightrises.com/   49026   \n",
       "4                  http://movies.disney.com/john-carter   49529   \n",
       "...                                                 ...     ...   \n",
       "4798                                                NaN    9367   \n",
       "4799                                                NaN   72766   \n",
       "4800  http://www.hallmarkchannel.com/signedsealeddel...  231617   \n",
       "4801                        http://shanghaicalling.com/  126186   \n",
       "4802                                                NaN   25975   \n",
       "\n",
       "                                               keywords original_language  \\\n",
       "0     [{\"id\": 1463, \"name\": \"culture clash\"}, {\"id\":...                en   \n",
       "1     [{\"id\": 270, \"name\": \"ocean\"}, {\"id\": 726, \"na...                en   \n",
       "2     [{\"id\": 470, \"name\": \"spy\"}, {\"id\": 818, \"name...                en   \n",
       "3     [{\"id\": 849, \"name\": \"dc comics\"}, {\"id\": 853,...                en   \n",
       "4     [{\"id\": 818, \"name\": \"based on novel\"}, {\"id\":...                en   \n",
       "...                                                 ...               ...   \n",
       "4798  [{\"id\": 5616, \"name\": \"united states\\u2013mexi...                es   \n",
       "4799                                                 []                en   \n",
       "4800  [{\"id\": 248, \"name\": \"date\"}, {\"id\": 699, \"nam...                en   \n",
       "4801                                                 []                en   \n",
       "4802  [{\"id\": 1523, \"name\": \"obsession\"}, {\"id\": 224...                en   \n",
       "\n",
       "                                original_title  \\\n",
       "0                                       Avatar   \n",
       "1     Pirates of the Caribbean: At World's End   \n",
       "2                                      Spectre   \n",
       "3                        The Dark Knight Rises   \n",
       "4                                  John Carter   \n",
       "...                                        ...   \n",
       "4798                               El Mariachi   \n",
       "4799                                 Newlyweds   \n",
       "4800                 Signed, Sealed, Delivered   \n",
       "4801                          Shanghai Calling   \n",
       "4802                         My Date with Drew   \n",
       "\n",
       "                                               overview  popularity  \\\n",
       "0     In the 22nd century, a paraplegic Marine is di...  150.437577   \n",
       "1     Captain Barbossa, long believed to be dead, ha...  139.082615   \n",
       "2     A cryptic message from Bond’s past sends him o...  107.376788   \n",
       "3     Following the death of District Attorney Harve...  112.312950   \n",
       "4     John Carter is a war-weary, former military ca...   43.926995   \n",
       "...                                                 ...         ...   \n",
       "4798  El Mariachi just wants to play his guitar and ...   14.269792   \n",
       "4799  A newlywed couple's honeymoon is upended by th...    0.642552   \n",
       "4800  \"Signed, Sealed, Delivered\" introduces a dedic...    1.444476   \n",
       "4801  When ambitious New York attorney Sam is sent t...    0.857008   \n",
       "4802  Ever since the second grade when he first saw ...    1.929883   \n",
       "\n",
       "                                   production_companies  \\\n",
       "0     [{\"name\": \"Ingenious Film Partners\", \"id\": 289...   \n",
       "1     [{\"name\": \"Walt Disney Pictures\", \"id\": 2}, {\"...   \n",
       "2     [{\"name\": \"Columbia Pictures\", \"id\": 5}, {\"nam...   \n",
       "3     [{\"name\": \"Legendary Pictures\", \"id\": 923}, {\"...   \n",
       "4           [{\"name\": \"Walt Disney Pictures\", \"id\": 2}]   \n",
       "...                                                 ...   \n",
       "4798           [{\"name\": \"Columbia Pictures\", \"id\": 5}]   \n",
       "4799                                                 []   \n",
       "4800  [{\"name\": \"Front Street Pictures\", \"id\": 3958}...   \n",
       "4801                                                 []   \n",
       "4802  [{\"name\": \"rusty bear entertainment\", \"id\": 87...   \n",
       "\n",
       "                                   production_countries release_date  \\\n",
       "0     [{\"iso_3166_1\": \"US\", \"name\": \"United States o...   2009-12-10   \n",
       "1     [{\"iso_3166_1\": \"US\", \"name\": \"United States o...   2007-05-19   \n",
       "2     [{\"iso_3166_1\": \"GB\", \"name\": \"United Kingdom\"...   2015-10-26   \n",
       "3     [{\"iso_3166_1\": \"US\", \"name\": \"United States o...   2012-07-16   \n",
       "4     [{\"iso_3166_1\": \"US\", \"name\": \"United States o...   2012-03-07   \n",
       "...                                                 ...          ...   \n",
       "4798  [{\"iso_3166_1\": \"MX\", \"name\": \"Mexico\"}, {\"iso...   1992-09-04   \n",
       "4799                                                 []   2011-12-26   \n",
       "4800  [{\"iso_3166_1\": \"US\", \"name\": \"United States o...   2013-10-13   \n",
       "4801  [{\"iso_3166_1\": \"US\", \"name\": \"United States o...   2012-05-03   \n",
       "4802  [{\"iso_3166_1\": \"US\", \"name\": \"United States o...   2005-08-05   \n",
       "\n",
       "         revenue  runtime                                   spoken_languages  \\\n",
       "0     2787965087    162.0  [{\"iso_639_1\": \"en\", \"name\": \"English\"}, {\"iso...   \n",
       "1      961000000    169.0           [{\"iso_639_1\": \"en\", \"name\": \"English\"}]   \n",
       "2      880674609    148.0  [{\"iso_639_1\": \"fr\", \"name\": \"Fran\\u00e7ais\"},...   \n",
       "3     1084939099    165.0           [{\"iso_639_1\": \"en\", \"name\": \"English\"}]   \n",
       "4      284139100    132.0           [{\"iso_639_1\": \"en\", \"name\": \"English\"}]   \n",
       "...          ...      ...                                                ...   \n",
       "4798     2040920     81.0      [{\"iso_639_1\": \"es\", \"name\": \"Espa\\u00f1ol\"}]   \n",
       "4799           0     85.0                                                 []   \n",
       "4800           0    120.0           [{\"iso_639_1\": \"en\", \"name\": \"English\"}]   \n",
       "4801           0     98.0           [{\"iso_639_1\": \"en\", \"name\": \"English\"}]   \n",
       "4802           0     90.0           [{\"iso_639_1\": \"en\", \"name\": \"English\"}]   \n",
       "\n",
       "        status                                            tagline  \\\n",
       "0     Released                        Enter the World of Pandora.   \n",
       "1     Released     At the end of the world, the adventure begins.   \n",
       "2     Released                              A Plan No One Escapes   \n",
       "3     Released                                    The Legend Ends   \n",
       "4     Released               Lost in our world, found in another.   \n",
       "...        ...                                                ...   \n",
       "4798  Released  He didn't come looking for trouble, but troubl...   \n",
       "4799  Released  A newlywed couple's honeymoon is upended by th...   \n",
       "4800  Released                                                NaN   \n",
       "4801  Released                           A New Yorker in Shanghai   \n",
       "4802  Released                                                NaN   \n",
       "\n",
       "                                         title  vote_average  vote_count  \n",
       "0                                       Avatar           7.2       11800  \n",
       "1     Pirates of the Caribbean: At World's End           6.9        4500  \n",
       "2                                      Spectre           6.3        4466  \n",
       "3                        The Dark Knight Rises           7.6        9106  \n",
       "4                                  John Carter           6.1        2124  \n",
       "...                                        ...           ...         ...  \n",
       "4798                               El Mariachi           6.6         238  \n",
       "4799                                 Newlyweds           5.9           5  \n",
       "4800                 Signed, Sealed, Delivered           7.0           6  \n",
       "4801                          Shanghai Calling           5.7           7  \n",
       "4802                         My Date with Drew           6.3          16  \n",
       "\n",
       "[4803 rows x 20 columns]"
      ]
     },
     "execution_count": 38,
     "metadata": {},
     "output_type": "execute_result"
    }
   ],
   "source": [
    "\n",
    "df"
   ]
  },
  {
   "cell_type": "code",
   "execution_count": 39,
   "id": "67b1fee5-64a2-4b9b-8924-6d2ae8f73c5e",
   "metadata": {},
   "outputs": [],
   "source": [
    "import json\n",
    "\n",
    "def safe_parse(val):\n",
    "    if pd.isna(val) or val == \"\" or val == \"[]\":\n",
    "        return []\n",
    "    try:\n",
    "        return json.loads(val.replace(\"'\", '\"'))  # đổi ' thành \" để JSON đọc được\n",
    "    except Exception:\n",
    "        try:\n",
    "            return ast.literal_eval(val)  # fallback nếu JSON lỗi\n",
    "        except Exception:\n",
    "            return []\n",
    "\n",
    "def build_desc(row):\n",
    "    genres = [g.get(\"name\", \"\") for g in safe_parse(row[\"genres\"])]\n",
    "    keywords = [k.get(\"name\", \"\") for k in safe_parse(row[\"keywords\"])]\n",
    "\n",
    "    genres_str = \", \".join([g for g in genres if g])\n",
    "    keywords_str = \", \".join([k for k in keywords if k])\n",
    "\n",
    "    return f\"\"\"{row['title']} Genres: {genres_str} Keywords: {keywords_str} Overview: {row['overview']} Tagline: {row['tagline']}\"\"\"\n"
   ]
  },
  {
   "cell_type": "code",
   "execution_count": 40,
   "id": "70661bf8-6b72-4297-99f4-6d442a1ebe8f",
   "metadata": {},
   "outputs": [],
   "source": [
    "df[\"desc\"] = df.apply(build_desc, axis=1)"
   ]
  },
  {
   "cell_type": "code",
   "execution_count": 41,
   "id": "1d56ed1b-d93f-454a-97bb-451102ca7a56",
   "metadata": {},
   "outputs": [
    {
     "name": "stdout",
     "output_type": "stream",
     "text": [
      "Avatar Genres: Action, Adventure, Fantasy, Science Fiction Keywords: culture clash, future, space war, space colony, society, space travel, futuristic, romance, space, alien, tribe, alien planet, cgi, marine, soldier, battle, love affair, anti war, power relations, mind and soul, 3d Overview: In the 22nd century, a paraplegic Marine is dispatched to the moon Pandora on a unique mission, but becomes torn between following orders and protecting an alien civilization. Tagline: Enter the World of Pandora.\n"
     ]
    }
   ],
   "source": [
    "print(df[\"desc\"][0])"
   ]
  },
  {
   "cell_type": "code",
   "execution_count": 42,
   "id": "f2b142e2-f031-47bd-86aa-fd38d58aadb8",
   "metadata": {},
   "outputs": [
    {
     "name": "stdout",
     "output_type": "stream",
     "text": [
      "Sherlock Holmes: A Game of Shadows Genres: Adventure, Action, Crime, Mystery Keywords: detective inspector, steampunk, criminal mastermind Overview: There is a new criminal mastermind at large (Professor Moriarty) and not only is he Holmes’ intellectual equal, but his capacity for evil and lack of conscience may give him an advantage over the  detective. Tagline: The game is afoot.\n"
     ]
    }
   ],
   "source": [
    "print(df.loc[df[\"title\"]==\"Sherlock Holmes: A Game of Shadows\", \"desc\"].values[0])"
   ]
  },
  {
   "cell_type": "code",
   "execution_count": 6,
   "id": "bf522b54-0fae-4087-9e49-f0a462c5772b",
   "metadata": {},
   "outputs": [],
   "source": [
    "from pinecone import Pinecone\n",
    "import os\n"
   ]
  },
  {
   "cell_type": "code",
   "execution_count": 7,
   "id": "4497a9c6-e18f-4597-a1ff-0aec996fa03c",
   "metadata": {},
   "outputs": [],
   "source": [
    "from transformers import pipeline"
   ]
  },
  {
   "cell_type": "code",
   "execution_count": 7,
   "id": "0200b797-ccfc-4347-b6dd-c3c31c41b4c8",
   "metadata": {},
   "outputs": [],
   "source": [
    "model = SentenceTransformer(\"sentence-transformers/paraphrase-multilingual-MiniLM-L12-v2\")"
   ]
  },
  {
   "cell_type": "code",
   "execution_count": 37,
   "id": "003de2e4-cfa7-420a-acf4-d32933480450",
   "metadata": {},
   "outputs": [],
   "source": [
    "def embed_text(text):\n",
    "    return model.encode(text).tolist()"
   ]
  },
  {
   "cell_type": "code",
   "execution_count": 38,
   "id": "f56b8ba1-cfad-40f3-9dc5-9c09fa2d7e26",
   "metadata": {},
   "outputs": [],
   "source": [
    "df[\"embedding\"] = df[\"desc\"].apply(embed_text)"
   ]
  },
  {
   "cell_type": "code",
   "execution_count": 39,
   "id": "8253264a-7825-40be-bbbd-e946860d7b54",
   "metadata": {},
   "outputs": [
    {
     "name": "stdout",
     "output_type": "stream",
     "text": [
      "                                      title  \\\n",
      "0                                    Avatar   \n",
      "1  Pirates of the Caribbean: At World's End   \n",
      "\n",
      "                                           embedding  \n",
      "0  [0.00427649961784482, -0.3326219320297241, 0.3...  \n",
      "1  [0.09962689876556396, -0.12092940509319305, 0....  \n",
      "Chiều vector: 384\n"
     ]
    }
   ],
   "source": [
    "print(df[[\"title\", \"embedding\"]].head(2))\n",
    "print(\"Chiều vector:\", len(df[\"embedding\"].iloc[0]))"
   ]
  },
  {
   "cell_type": "markdown",
   "id": "07f35f2f-86e9-4516-998f-3a8a945dee88",
   "metadata": {},
   "source": [
    "# PineCOne connect"
   ]
  },
  {
   "cell_type": "code",
   "execution_count": 8,
   "id": "8e55e974-c0c4-4619-8fb4-7e6fbe00e240",
   "metadata": {},
   "outputs": [],
   "source": [
    "pc = Pinecone(api_key=PINECONE_API_KEY)\n",
    "index = pc.Index(\"movies\")"
   ]
  },
  {
   "cell_type": "code",
   "execution_count": 47,
   "id": "d708f527-7e92-4ee0-99d0-d806789f27a9",
   "metadata": {},
   "outputs": [],
   "source": [
    "import math\n",
    "\n",
    "def clean_metadata(val):\n",
    "    if val is None or (isinstance(val, float) and math.isnan(val)):\n",
    "        return \"\"  # thay NaN bằng chuỗi rỗng\n",
    "    return str(val)\n",
    "\n",
    "vectors = []\n",
    "for _, row in df.iterrows():\n",
    "    vectors.append({\n",
    "        \"id\": str(row[\"id\"]),\n",
    "        \"values\": row[\"embedding\"],\n",
    "        \"metadata\": {\n",
    "            \"title\": clean_metadata(row[\"title\"]),\n",
    "            \"overview\": clean_metadata(row[\"overview\"]),\n",
    "            \"tagline\": clean_metadata(row[\"tagline\"])\n",
    "        }\n",
    "    })"
   ]
  },
  {
   "cell_type": "code",
   "execution_count": 49,
   "id": "bff2d07d-8423-4326-bae1-29686cc6e8d8",
   "metadata": {},
   "outputs": [],
   "source": [
    "def upsert_in_batches(index, vectors, batch_size=100):\n",
    "    for i in range(0, len(vectors), batch_size):\n",
    "        batch = vectors[i: i + batch_size]\n",
    "        index.upsert(batch)\n",
    "        print(f\"✅ Upsert batch {i//batch_size + 1} ({len(batch)} vectors)\")\n"
   ]
  },
  {
   "cell_type": "code",
   "execution_count": 50,
   "id": "de1733d1-d579-4858-ab38-09305c935346",
   "metadata": {},
   "outputs": [
    {
     "name": "stdout",
     "output_type": "stream",
     "text": [
      "✅ Upsert batch 1 (100 vectors)\n",
      "✅ Upsert batch 2 (100 vectors)\n",
      "✅ Upsert batch 3 (100 vectors)\n",
      "✅ Upsert batch 4 (100 vectors)\n",
      "✅ Upsert batch 5 (100 vectors)\n",
      "✅ Upsert batch 6 (100 vectors)\n",
      "✅ Upsert batch 7 (100 vectors)\n",
      "✅ Upsert batch 8 (100 vectors)\n",
      "✅ Upsert batch 9 (100 vectors)\n",
      "✅ Upsert batch 10 (100 vectors)\n",
      "✅ Upsert batch 11 (100 vectors)\n",
      "✅ Upsert batch 12 (100 vectors)\n",
      "✅ Upsert batch 13 (100 vectors)\n",
      "✅ Upsert batch 14 (100 vectors)\n",
      "✅ Upsert batch 15 (100 vectors)\n",
      "✅ Upsert batch 16 (100 vectors)\n",
      "✅ Upsert batch 17 (100 vectors)\n",
      "✅ Upsert batch 18 (100 vectors)\n",
      "✅ Upsert batch 19 (100 vectors)\n",
      "✅ Upsert batch 20 (100 vectors)\n",
      "✅ Upsert batch 21 (100 vectors)\n",
      "✅ Upsert batch 22 (100 vectors)\n",
      "✅ Upsert batch 23 (100 vectors)\n",
      "✅ Upsert batch 24 (100 vectors)\n",
      "✅ Upsert batch 25 (100 vectors)\n",
      "✅ Upsert batch 26 (100 vectors)\n",
      "✅ Upsert batch 27 (100 vectors)\n",
      "✅ Upsert batch 28 (100 vectors)\n",
      "✅ Upsert batch 29 (100 vectors)\n",
      "✅ Upsert batch 30 (100 vectors)\n",
      "✅ Upsert batch 31 (100 vectors)\n",
      "✅ Upsert batch 32 (100 vectors)\n",
      "✅ Upsert batch 33 (100 vectors)\n",
      "✅ Upsert batch 34 (100 vectors)\n",
      "✅ Upsert batch 35 (100 vectors)\n",
      "✅ Upsert batch 36 (100 vectors)\n",
      "✅ Upsert batch 37 (100 vectors)\n",
      "✅ Upsert batch 38 (100 vectors)\n",
      "✅ Upsert batch 39 (100 vectors)\n",
      "✅ Upsert batch 40 (100 vectors)\n",
      "✅ Upsert batch 41 (100 vectors)\n",
      "✅ Upsert batch 42 (100 vectors)\n",
      "✅ Upsert batch 43 (100 vectors)\n",
      "✅ Upsert batch 44 (100 vectors)\n",
      "✅ Upsert batch 45 (100 vectors)\n",
      "✅ Upsert batch 46 (100 vectors)\n",
      "✅ Upsert batch 47 (100 vectors)\n",
      "✅ Upsert batch 48 (100 vectors)\n",
      "✅ Upsert batch 49 (3 vectors)\n"
     ]
    }
   ],
   "source": [
    "upsert_in_batches(index, vectors, batch_size=100)"
   ]
  },
  {
   "cell_type": "code",
   "execution_count": null,
   "id": "96c7f455-ea05-4e7b-b7ba-e60878df1f07",
   "metadata": {},
   "outputs": [],
   "source": [
    "print(f\"✅ Upsert {len(vectors)} movies vào Pinecone thành công!\")"
   ]
  },
  {
   "cell_type": "code",
   "execution_count": 24,
   "id": "fb59de49-5ae6-48fa-88d4-30b01b79c885",
   "metadata": {},
   "outputs": [
    {
     "data": {
      "application/vnd.jupyter.widget-view+json": {
       "model_id": "f2a860a17e624c2491e5f4ffbe50eee0",
       "version_major": 2,
       "version_minor": 0
      },
      "text/plain": [
       "config.json: 0.00B [00:00, ?B/s]"
      ]
     },
     "metadata": {},
     "output_type": "display_data"
    },
    {
     "name": "stderr",
     "output_type": "stream",
     "text": [
      "D:\\ai-env\\Lib\\site-packages\\huggingface_hub\\file_download.py:143: UserWarning: `huggingface_hub` cache-system uses symlinks by default to efficiently store duplicated files but your machine does not support them in C:\\Users\\Chu Dung\\.cache\\huggingface\\hub\\models--Helsinki-NLP--opus-mt-vi-en. Caching files will still work but in a degraded version that might require more space on your disk. This warning can be disabled by setting the `HF_HUB_DISABLE_SYMLINKS_WARNING` environment variable. For more details, see https://huggingface.co/docs/huggingface_hub/how-to-cache#limitations.\n",
      "To support symlinks on Windows, you either need to activate Developer Mode or to run Python as an administrator. In order to activate developer mode, see this article: https://docs.microsoft.com/en-us/windows/apps/get-started/enable-your-device-for-development\n",
      "  warnings.warn(message)\n",
      "Xet Storage is enabled for this repo, but the 'hf_xet' package is not installed. Falling back to regular HTTP download. For better performance, install the package with: `pip install huggingface_hub[hf_xet]` or `pip install hf_xet`\n"
     ]
    },
    {
     "data": {
      "application/vnd.jupyter.widget-view+json": {
       "model_id": "66ff378289ea41f3b4334c816b6e1ef0",
       "version_major": 2,
       "version_minor": 0
      },
      "text/plain": [
       "pytorch_model.bin:   0%|          | 0.00/289M [00:00<?, ?B/s]"
      ]
     },
     "metadata": {},
     "output_type": "display_data"
    },
    {
     "data": {
      "application/vnd.jupyter.widget-view+json": {
       "model_id": "de3d71e2e2104e27bfb2cb5e5e099f93",
       "version_major": 2,
       "version_minor": 0
      },
      "text/plain": [
       "generation_config.json:   0%|          | 0.00/293 [00:00<?, ?B/s]"
      ]
     },
     "metadata": {},
     "output_type": "display_data"
    },
    {
     "data": {
      "application/vnd.jupyter.widget-view+json": {
       "model_id": "bab824a5c507490cbcc17cedded67c30",
       "version_major": 2,
       "version_minor": 0
      },
      "text/plain": [
       "tokenizer_config.json:   0%|          | 0.00/44.0 [00:00<?, ?B/s]"
      ]
     },
     "metadata": {},
     "output_type": "display_data"
    },
    {
     "name": "stderr",
     "output_type": "stream",
     "text": [
      "Xet Storage is enabled for this repo, but the 'hf_xet' package is not installed. Falling back to regular HTTP download. For better performance, install the package with: `pip install huggingface_hub[hf_xet]` or `pip install hf_xet`\n"
     ]
    },
    {
     "data": {
      "application/vnd.jupyter.widget-view+json": {
       "model_id": "532f5563e79c4073be4cb803359a9fda",
       "version_major": 2,
       "version_minor": 0
      },
      "text/plain": [
       "source.spm:   0%|          | 0.00/756k [00:00<?, ?B/s]"
      ]
     },
     "metadata": {},
     "output_type": "display_data"
    },
    {
     "data": {
      "application/vnd.jupyter.widget-view+json": {
       "model_id": "1912d238b01c43d2b24963ed747d3864",
       "version_major": 2,
       "version_minor": 0
      },
      "text/plain": [
       "target.spm:   0%|          | 0.00/809k [00:00<?, ?B/s]"
      ]
     },
     "metadata": {},
     "output_type": "display_data"
    },
    {
     "data": {
      "application/vnd.jupyter.widget-view+json": {
       "model_id": "b48260526f1b41cba1f173ac6b49b572",
       "version_major": 2,
       "version_minor": 0
      },
      "text/plain": [
       "model.safetensors:   0%|          | 0.00/289M [00:00<?, ?B/s]"
      ]
     },
     "metadata": {},
     "output_type": "display_data"
    },
    {
     "data": {
      "application/vnd.jupyter.widget-view+json": {
       "model_id": "be65647e63244d4a84960f5550e07377",
       "version_major": 2,
       "version_minor": 0
      },
      "text/plain": [
       "vocab.json: 0.00B [00:00, ?B/s]"
      ]
     },
     "metadata": {},
     "output_type": "display_data"
    },
    {
     "name": "stderr",
     "output_type": "stream",
     "text": [
      "Device set to use cpu\n"
     ]
    }
   ],
   "source": [
    "translator_vi2en = pipeline(\"translation\", model=\"Helsinki-NLP/opus-mt-vi-en\")"
   ]
  },
  {
   "cell_type": "code",
   "execution_count": 19,
   "id": "ce6140ec-6575-4a49-a094-2460f5ce590a",
   "metadata": {},
   "outputs": [
    {
     "data": {
      "application/vnd.jupyter.widget-view+json": {
       "model_id": "f21fe1365ca449718b7e788faba1e09a",
       "version_major": 2,
       "version_minor": 0
      },
      "text/plain": [
       "config.json: 0.00B [00:00, ?B/s]"
      ]
     },
     "metadata": {},
     "output_type": "display_data"
    },
    {
     "name": "stderr",
     "output_type": "stream",
     "text": [
      "D:\\ai-env\\Lib\\site-packages\\huggingface_hub\\file_download.py:143: UserWarning: `huggingface_hub` cache-system uses symlinks by default to efficiently store duplicated files but your machine does not support them in C:\\Users\\Chu Dung\\.cache\\huggingface\\hub\\models--Helsinki-NLP--opus-mt-en-vi. Caching files will still work but in a degraded version that might require more space on your disk. This warning can be disabled by setting the `HF_HUB_DISABLE_SYMLINKS_WARNING` environment variable. For more details, see https://huggingface.co/docs/huggingface_hub/how-to-cache#limitations.\n",
      "To support symlinks on Windows, you either need to activate Developer Mode or to run Python as an administrator. In order to activate developer mode, see this article: https://docs.microsoft.com/en-us/windows/apps/get-started/enable-your-device-for-development\n",
      "  warnings.warn(message)\n",
      "Xet Storage is enabled for this repo, but the 'hf_xet' package is not installed. Falling back to regular HTTP download. For better performance, install the package with: `pip install huggingface_hub[hf_xet]` or `pip install hf_xet`\n"
     ]
    },
    {
     "data": {
      "application/vnd.jupyter.widget-view+json": {
       "model_id": "52acbc5348514250a13e4362288a40fa",
       "version_major": 2,
       "version_minor": 0
      },
      "text/plain": [
       "pytorch_model.bin:   0%|          | 0.00/289M [00:00<?, ?B/s]"
      ]
     },
     "metadata": {},
     "output_type": "display_data"
    },
    {
     "data": {
      "application/vnd.jupyter.widget-view+json": {
       "model_id": "f37e607ac4d6408db02121c02886b626",
       "version_major": 2,
       "version_minor": 0
      },
      "text/plain": [
       "generation_config.json:   0%|          | 0.00/293 [00:00<?, ?B/s]"
      ]
     },
     "metadata": {},
     "output_type": "display_data"
    },
    {
     "data": {
      "application/vnd.jupyter.widget-view+json": {
       "model_id": "6c0ff649dd2f45bab7727ce7033299a4",
       "version_major": 2,
       "version_minor": 0
      },
      "text/plain": [
       "tokenizer_config.json:   0%|          | 0.00/44.0 [00:00<?, ?B/s]"
      ]
     },
     "metadata": {},
     "output_type": "display_data"
    },
    {
     "name": "stderr",
     "output_type": "stream",
     "text": [
      "Xet Storage is enabled for this repo, but the 'hf_xet' package is not installed. Falling back to regular HTTP download. For better performance, install the package with: `pip install huggingface_hub[hf_xet]` or `pip install hf_xet`\n"
     ]
    },
    {
     "data": {
      "application/vnd.jupyter.widget-view+json": {
       "model_id": "f1a76286984a4c7f8dd37b08ea50b3cf",
       "version_major": 2,
       "version_minor": 0
      },
      "text/plain": [
       "model.safetensors:   0%|          | 0.00/289M [00:00<?, ?B/s]"
      ]
     },
     "metadata": {},
     "output_type": "display_data"
    },
    {
     "data": {
      "application/vnd.jupyter.widget-view+json": {
       "model_id": "8d7d783511d84e0588180deb9f804a06",
       "version_major": 2,
       "version_minor": 0
      },
      "text/plain": [
       "source.spm:   0%|          | 0.00/809k [00:00<?, ?B/s]"
      ]
     },
     "metadata": {},
     "output_type": "display_data"
    },
    {
     "data": {
      "application/vnd.jupyter.widget-view+json": {
       "model_id": "2e56cd977b4c4a55aae220ef55bfe418",
       "version_major": 2,
       "version_minor": 0
      },
      "text/plain": [
       "target.spm:   0%|          | 0.00/756k [00:00<?, ?B/s]"
      ]
     },
     "metadata": {},
     "output_type": "display_data"
    },
    {
     "data": {
      "application/vnd.jupyter.widget-view+json": {
       "model_id": "8e8f09b53bec4933b6c30fd26bf4a6a0",
       "version_major": 2,
       "version_minor": 0
      },
      "text/plain": [
       "vocab.json: 0.00B [00:00, ?B/s]"
      ]
     },
     "metadata": {},
     "output_type": "display_data"
    },
    {
     "name": "stderr",
     "output_type": "stream",
     "text": [
      "D:\\ai-env\\Lib\\site-packages\\transformers\\models\\marian\\tokenization_marian.py:175: UserWarning: Recommended: pip install sacremoses.\n",
      "  warnings.warn(\"Recommended: pip install sacremoses.\")\n",
      "Device set to use cpu\n"
     ]
    }
   ],
   "source": [
    "translator = pipeline(\"translation\", model=\"Helsinki-NLP/opus-mt-en-vi\")"
   ]
  },
  {
   "cell_type": "code",
   "execution_count": 9,
   "id": "4dcf131f-e3f2-468a-9aaf-94e4003a759d",
   "metadata": {
    "scrolled": true
   },
   "outputs": [
    {
     "name": "stdout",
     "output_type": "stream",
     "text": [
      "==============================\n",
      "BẮT ĐẦU TRUY VẤN\n",
      "==============================\n",
      "Đang tìm kiếm cho: 'một bộ phim về người ngoài hành tinh xâm chiếm trái đất và văn hóa xung đột'\n",
      "\n",
      "Kết quả đề xuất:\n",
      "  - ID Phim: 4858\n",
      "    Tiêu đề: The Invasion\n",
      "    Tóm tắt: Washington, D.C. psychologist Carol Bennell and her colleague Dr. Ben Driscoll are the only two people on Earth who are aware of an epidemic running rampant through the city. They discover an alien virus aboard a crashed space shuttle that transforms anyone who comes into contact with it into unfeeling drones while they sleep. Carol realizes her son holds the key to stopping the spread of the plague and she races to find him before it is too late.\n",
      "    Tagline: Do not trust anyone. Do not show emotion. Do not fall asleep.\n",
      "    Độ tương đồng (Score): 0.6638\n",
      "\n",
      "  - ID Phim: 34086\n",
      "    Tiêu đề: Spaced Invaders\n",
      "    Tóm tắt: A crew of Martians overhears a radio broadcast of Orson Welles' \"War of the Worlds\" coming from Earth, and, thinking the Martian fleet is attacking Earth, they land their broken-down ship in a backwater mid-American town. As luck would have it, they land on Halloween and get mistaken for trick-or-treaters. Comedy ensues as the Martians try to get taken seriously.\n",
      "    Tagline: \n",
      "    Độ tương đồng (Score): 0.6461\n",
      "\n",
      "  - ID Phim: 8077\n",
      "    Tiêu đề: Alien³\n",
      "    Tóm tắt: After escaping with Newt and Hicks from the alien planet, Ripley crash lands on Fiorina 161, a prison planet and host to a correctional facility. Unfortunately, although Newt and Hicks do not survive the crash, a more unwelcome visitor does. The prison does not allow weapons of any kind, and with aid being a long time away, the prisoners must simply survive in any way they can.\n",
      "    Tagline: The bitch is back.\n",
      "    Độ tương đồng (Score): 0.6281\n",
      "\n",
      "  - ID Phim: 77156\n",
      "    Tiêu đề: Alien Zone\n",
      "    Tóm tắt: A man who is having an affair with a married woman is dropped off on the wrong street when going back to his hotel. He takes refuge out of the rain when an old man invites him in. He turns out to be a mortician, who tells him the stories of the people who have wound up in his establishment over the course of four stories.\n",
      "    Tagline: Don't you dare go in there!\n",
      "    Độ tương đồng (Score): 0.6159\n",
      "\n",
      "  - ID Phim: 348\n",
      "    Tiêu đề: Alien\n",
      "    Tóm tắt: During its return to the earth, commercial spaceship Nostromo intercepts a distress signal from a distant planet. When a three-member team of the crew discovers a chamber containing thousands of eggs on the planet, a creature inside one of the eggs attacks an explorer. The entire crew is unaware of the impending nightmare set to descend upon them when the alien parasite planted inside its unfortunate host is birthed.\n",
      "    Tagline: In space no one can hear you scream.\n",
      "    Độ tương đồng (Score): 0.6153\n",
      "\n",
      "--------------------\n",
      "Đang tìm kiếm cho: 'câu chuyện tình yêu lãng mạn trên một con tàu lớn bị chìm'\n",
      "\n",
      "Kết quả đề xuất:\n",
      "  - ID Phim: 503\n",
      "    Tiêu đề: Poseidon\n",
      "    Tóm tắt: A packed cruise ship traveling the Atlantic is hit and overturned by a massive wave, compelling the passengers to begin a dramatic fight for their lives.\n",
      "    Tagline: Mayday\n",
      "    Độ tương đồng (Score): 0.6222\n",
      "\n",
      "  - ID Phim: 10207\n",
      "    Tiêu đề: Message in a Bottle\n",
      "    Tóm tắt: A woman finds a romantic letter in a bottle washed ashore and tracks down the author, a widowed shipbuilder whose wife died tragically early. As a deep and mutual attraction blossoms, the man struggles to make peace with his past so that he can move on and find happiness.\n",
      "    Tagline: A story of love lost and found.\n",
      "    Độ tương đồng (Score): 0.6191\n",
      "\n",
      "  - ID Phim: 211557\n",
      "    Tiêu đề: Vessel\n",
      "    Tóm tắt: Vessel is the story of the passengers of Flight 298, a red-eye on its way from Boston to San Francisco. Midway through the flight the passengers encounter an otherworldly force and are subsequently thrown into a fight for their lives. The story focuses on Danny (an everyday traveler), Emma (a flight attendant), Chloe (an unattended underage passenger) and Jim and Murray (the two pilots). Written by Anonymous\n",
      "    Tagline: \n",
      "    Độ tương đồng (Score): 0.6158\n",
      "\n",
      "  - ID Phim: 79698\n",
      "    Tiêu đề: The Lovers\n",
      "    Tóm tắt: The Lovers is an epic romance time travel adventure film. Helmed by Roland Joffé from a story by Ajey Jhankar, the film is a sweeping tale of an impossible love set against the backdrop of the first Anglo-Maratha war across two time periods and continents and centred around four characters — a British officer in 18th century colonial India, the Indian woman he falls deeply in love with, an American present-day marine biologist and his wife.\n",
      "    Tagline: Love is longer than life.\n",
      "    Độ tương đồng (Score): 0.5997\n",
      "\n",
      "  - ID Phim: 5689\n",
      "    Tiêu đề: The Blue Lagoon\n",
      "    Tóm tắt: Two small children and a ship's cook survive a shipwreck and find safety on an idyllic tropical island. Soon, however, the cook dies and the young boy and girl are left on their own. Days become years and Emmeline (Brooke Shields) and Richard (Christopher Atkins) make a home for themselves surrounded by exotic creatures and nature's beauty. But will they ever see civilization again?\n",
      "    Tagline: A sensuous story of natural love.\n",
      "    Độ tương đồng (Score): 0.5781\n",
      "\n",
      "--------------------\n",
      "Đang tìm kiếm cho: 'người dơi chiến đấu với một tên hề tội phạm'\n",
      "\n",
      "Kết quả đề xuất:\n",
      "  - ID Phim: 13056\n",
      "    Tiêu đề: Punisher: War Zone\n",
      "    Tóm tắt: Waging his one-man war on the world of organized crime, ruthless vigilante-hero Frank Castle sets his sights on overeager mob boss Billy Russoti. After Russoti is left horribly disfigured by Castle, he sets out for vengeance under his new alias: Jigsaw. With the \"Punisher Task Force\" hot on his trail and the FBI unable to take Jigsaw in, Frank must stand up to the formidable army that Jigsaw has recruited before more of his evil deeds go unpunished.\n",
      "    Tagline: Vengeance has a name\n",
      "    Độ tương đồng (Score): 0.6166\n",
      "\n",
      "  - ID Phim: 65448\n",
      "    Tiêu đề: Penitentiary\n",
      "    Tóm tắt: A hitchhiker named Martel Gordone gets in a fight with two bikers over a prostitute, and one of the bikers is killed. Gordone is arrested and sent to prison, where he joins the prison's boxing team in an effort to secure an early parole and to establish his dominance over the prison's toughest gang.\n",
      "    Tagline: There's only one way out, and 100 fools stand in the way!\n",
      "    Độ tương đồng (Score): 0.6119\n",
      "\n",
      "  - ID Phim: 168672\n",
      "    Tiêu đề: American Hustle\n",
      "    Tóm tắt: A con man, Irving Rosenfeld, along with his seductive partner Sydney Prosser, is forced to work for a wild FBI agent, Richie DiMaso, who pushes them into a world of Jersey powerbrokers and mafia.\n",
      "    Tagline: Everyone Hustles To Survive\n",
      "    Độ tương đồng (Score): 0.5980\n",
      "\n",
      "  - ID Phim: 22803\n",
      "    Tiêu đề: Law Abiding Citizen\n",
      "    Tóm tắt: A frustrated man decides to take justice into his own hands after a plea bargain sets one of his family's killers free. He targets not only the killer but also the district attorney and others involved in the deal.\n",
      "    Tagline: The System Must Pay.\n",
      "    Độ tương đồng (Score): 0.5873\n",
      "\n",
      "  - ID Phim: 373314\n",
      "    Tiêu đề: Misconduct\n",
      "    Tóm tắt: An ambitious lawyer finds himself caught in a power struggle between a corrupt pharmaceutical executive and his firm’s senior partner. When the case takes a deadly turn, he must race to uncover the truth before he loses everything.\n",
      "    Tagline: Ambition can be deadly\n",
      "    Độ tương đồng (Score): 0.5741\n",
      "\n"
     ]
    },
    {
     "data": {
      "text/plain": [
       "{'matches': [{'id': '13056',\n",
       "              'metadata': {'overview': 'Waging his one-man war on the world of '\n",
       "                                       'organized crime, ruthless '\n",
       "                                       'vigilante-hero Frank Castle sets his '\n",
       "                                       'sights on overeager mob boss Billy '\n",
       "                                       'Russoti. After Russoti is left '\n",
       "                                       'horribly disfigured by Castle, he sets '\n",
       "                                       'out for vengeance under his new alias: '\n",
       "                                       'Jigsaw. With the \"Punisher Task Force\" '\n",
       "                                       'hot on his trail and the FBI unable to '\n",
       "                                       'take Jigsaw in, Frank must stand up to '\n",
       "                                       'the formidable army that Jigsaw has '\n",
       "                                       'recruited before more of his evil '\n",
       "                                       'deeds go unpunished.',\n",
       "                           'tagline': 'Vengeance has a name',\n",
       "                           'title': 'Punisher: War Zone'},\n",
       "              'score': 0.616591811,\n",
       "              'values': []},\n",
       "             {'id': '65448',\n",
       "              'metadata': {'overview': 'A hitchhiker named Martel Gordone gets '\n",
       "                                       'in a fight with two bikers over a '\n",
       "                                       'prostitute, and one of the bikers is '\n",
       "                                       'killed. Gordone is arrested and sent '\n",
       "                                       \"to prison, where he joins the prison's \"\n",
       "                                       'boxing team in an effort to secure an '\n",
       "                                       'early parole and to establish his '\n",
       "                                       \"dominance over the prison's toughest \"\n",
       "                                       'gang.',\n",
       "                           'tagline': \"There's only one way out, and 100 fools \"\n",
       "                                      'stand in the way!',\n",
       "                           'title': 'Penitentiary'},\n",
       "              'score': 0.611885905,\n",
       "              'values': []},\n",
       "             {'id': '168672',\n",
       "              'metadata': {'overview': 'A con man, Irving Rosenfeld, along '\n",
       "                                       'with his seductive partner Sydney '\n",
       "                                       'Prosser, is forced to work for a wild '\n",
       "                                       'FBI agent, Richie DiMaso, who pushes '\n",
       "                                       'them into a world of Jersey '\n",
       "                                       'powerbrokers and mafia.',\n",
       "                           'tagline': 'Everyone Hustles To Survive',\n",
       "                           'title': 'American Hustle'},\n",
       "              'score': 0.597974181,\n",
       "              'values': []},\n",
       "             {'id': '22803',\n",
       "              'metadata': {'overview': 'A frustrated man decides to take '\n",
       "                                       'justice into his own hands after a '\n",
       "                                       \"plea bargain sets one of his family's \"\n",
       "                                       'killers free. He targets not only the '\n",
       "                                       'killer but also the district attorney '\n",
       "                                       'and others involved in the deal.',\n",
       "                           'tagline': 'The System Must Pay.',\n",
       "                           'title': 'Law Abiding Citizen'},\n",
       "              'score': 0.5872612,\n",
       "              'values': []},\n",
       "             {'id': '373314',\n",
       "              'metadata': {'overview': 'An ambitious lawyer finds himself '\n",
       "                                       'caught in a power struggle between a '\n",
       "                                       'corrupt pharmaceutical executive and '\n",
       "                                       'his firm’s senior partner. When the '\n",
       "                                       'case takes a deadly turn, he must race '\n",
       "                                       'to uncover the truth before he loses '\n",
       "                                       'everything.',\n",
       "                           'tagline': 'Ambition can be deadly',\n",
       "                           'title': 'Misconduct'},\n",
       "              'score': 0.574077129,\n",
       "              'values': []}],\n",
       " 'namespace': '',\n",
       " 'usage': {'read_units': 1}}"
      ]
     },
     "execution_count": 9,
     "metadata": {},
     "output_type": "execute_result"
    }
   ],
   "source": [
    "def find_similar_movies(vietnamese_query, top_k=5):\n",
    "    \"\"\"\n",
    "    Hàm này nhận một câu mô tả tiếng Việt, embed nó,\n",
    "    và truy vấn Pinecone để tìm các phim phù hợp.\n",
    "    \"\"\"\n",
    "    print(f\"Đang tìm kiếm cho: '{vietnamese_query}'\\n\")\n",
    "\n",
    "    # 1. Embed câu truy vấn tiếng Việt bằng CÙNG một model đa ngôn ngữ\n",
    "    query_embedding = model.encode(vietnamese_query).tolist()\n",
    "\n",
    "    # 2. Truy vấn Pinecone\n",
    "    try:\n",
    "        query_results = index.query(\n",
    "            vector=query_embedding,\n",
    "            top_k=top_k,\n",
    "            include_metadata=True  # Lấy cả metadata (title, overview)\n",
    "        )\n",
    "\n",
    "        # 3. In kết quả\n",
    "        print(\"Kết quả đề xuất:\")\n",
    "        if not query_results['matches']:\n",
    "            print(\"Không tìm thấy kết quả phù hợp.\")\n",
    "            return\n",
    "\n",
    "        for result in query_results['matches']:\n",
    "            print(f\"  - ID Phim: {result['id']}\")\n",
    "            print(f\"    Tiêu đề: {result['metadata']['title']}\")\n",
    "            print(f\"    Tóm tắt: {result['metadata']['overview']}\")\n",
    "            print(f\"    Tagline: {result['metadata']['tagline']}\")\n",
    "            print(f\"    Độ tương đồng (Score): {result['score']:.4f}\\n\")\n",
    "\n",
    "        return query_results\n",
    "\n",
    "    except Exception as e:\n",
    "        print(f\"Lỗi khi truy vấn Pinecone: {e}\")\n",
    "        return None\n",
    "\n",
    "# --- Ví dụ sử dụng ---\n",
    "print(\"=\"*30)\n",
    "print(\"BẮT ĐẦU TRUY VẤN\")\n",
    "print(\"=\"*30)\n",
    "\n",
    "# Ví dụ 1: Phim về không gian, người ngoài hành tinh\n",
    "vietnamese_query_1 = \"một bộ phim về người ngoài hành tinh xâm chiếm trái đất và văn hóa xung đột\"\n",
    "find_similar_movies(vietnamese_query_1)\n",
    "\n",
    "print(\"-\" * 20)\n",
    "\n",
    "# Ví dụ 2: Phim tình cảm lãng mạn\n",
    "vietnamese_query_2 = \"câu chuyện tình yêu lãng mạn trên một con tàu lớn bị chìm\"\n",
    "find_similar_movies(vietnamese_query_2)\n",
    "\n",
    "print(\"-\" * 20)\n",
    "\n",
    "# Ví dụ 3: Phim hành động\n",
    "vietnamese_query_3 = \"người dơi chiến đấu với một tên hề tội phạm\"\n",
    "find_similar_movies(vietnamese_query_3)"
   ]
  },
  {
   "cell_type": "markdown",
   "id": "30e1d68d-2f52-4261-aa6f-196bbf8af545",
   "metadata": {},
   "source": [
    "# Model mới"
   ]
  },
  {
   "cell_type": "code",
   "execution_count": 12,
   "id": "e614daf2-9b05-4767-82c6-bd381913f993",
   "metadata": {},
   "outputs": [
    {
     "name": "stdout",
     "output_type": "stream",
     "text": [
      "Đang tải model 'paraphrase-multilingual-mpnet-base-v2'...\n",
      "(Việc này có thể mất vài phút nếu đây là lần đầu tiên)\n",
      "✅ Tải model thành công.\n"
     ]
    }
   ],
   "source": [
    "print(\"Đang tải model 'paraphrase-multilingual-mpnet-base-v2'...\")\n",
    "print(\"(Việc này có thể mất vài phút nếu đây là lần đầu tiên)\")\n",
    "model = SentenceTransformer(\"sentence-transformers/paraphrase-multilingual-mpnet-base-v2\")\n",
    "print(\"✅ Tải model thành công.\")\n"
   ]
  },
  {
   "cell_type": "code",
   "execution_count": 34,
   "id": "ab1f68d9-1c8d-4353-a960-19d9c2b975db",
   "metadata": {},
   "outputs": [],
   "source": [
    "try:\n",
    "    df = pd.read_csv(\"./tmdb_5000_movies.csv\", encoding=\"utf-8\")\n",
    "except FileNotFoundError:\n",
    "    print(\"Lỗi: Không tìm thấy file 'tmdb_5000_movies.csv'.\")\n",
    "    exit()"
   ]
  },
  {
   "cell_type": "code",
   "execution_count": 35,
   "id": "e76380dc-36c8-4ccf-a965-f877f8b6b357",
   "metadata": {},
   "outputs": [
    {
     "data": {
      "text/plain": [
       "'[{\"id\": 28, \"name\": \"Action\"}, {\"id\": 12, \"name\": \"Adventure\"}, {\"id\": 14, \"name\": \"Fantasy\"}, {\"id\": 878, \"name\": \"Science Fiction\"}]'"
      ]
     },
     "execution_count": 35,
     "metadata": {},
     "output_type": "execute_result"
    }
   ],
   "source": [
    "df.iloc[0]['genres']\n"
   ]
  },
  {
   "cell_type": "code",
   "execution_count": 36,
   "id": "3928b4ee-9c9a-47eb-8fc0-f13359a1d142",
   "metadata": {},
   "outputs": [],
   "source": [
    "import math"
   ]
  },
  {
   "cell_type": "code",
   "execution_count": 37,
   "id": "90c9a75e-ca13-4c45-8241-afccedc169bb",
   "metadata": {},
   "outputs": [],
   "source": [
    "def clean_metadata(val):\n",
    "    if val is None or (isinstance(val, float) and math.isnan(val)):\n",
    "        return \"\"  # thay NaN bằng chuỗi rỗng\n",
    "    return str(val)"
   ]
  },
  {
   "cell_type": "code",
   "execution_count": 38,
   "id": "20a632ab-15aa-4e05-ba5e-b7e4b07fe98f",
   "metadata": {},
   "outputs": [],
   "source": [
    "import pandas as pd\n",
    "import json\n",
    "\n",
    "# Hàm helper để parse chuỗi JSON một cách an toàn\n",
    "def safe_parse(text_data):\n",
    "    # Trả về list rỗng nếu dữ liệu là NaN, rỗng hoặc \"[]\"\n",
    "    if pd.isna(text_data) or text_data == \"\" or text_data == \"[]\":\n",
    "        return []\n",
    "    try:\n",
    "        # Thay thế dấu nháy đơn ' bằng nháy kép \" để biến nó thành JSON hợp lệ\n",
    "        # và dùng json.loads để đọc.\n",
    "        # Ví dụ: '[{\"id\": 28, \"name\": \"Action\"}]' -> '[{\"id\": 28, \"name\": \"Action\"}]'\n",
    "        return json.loads(text_data)\n",
    "    except Exception as e:\n",
    "        # Nếu có lỗi, in ra để debug và trả về list rỗng\n",
    "        print(f\"Lỗi khi parse: {e} với dữ liệu: {text_data}\")\n",
    "        return []\n",
    "\n",
    "# Hàm chính để xây dựng mô tả phim\n",
    "def build_description(row):\n",
    "    \"\"\"\n",
    "    Hàm này nhận vào một hàng (row) của DataFrame và tạo ra một chuỗi\n",
    "    mô tả tổng hợp cho bộ phim đó.\n",
    "    \"\"\"\n",
    "    # Lấy ra danh sách tên 'name' từ cột 'genres'\n",
    "    # Lưu ý: Tên cột trong file csv là \"genres\" (có chữ s)\n",
    "    genres_list = [item.get(\"name\", \"\") for item in safe_parse(row[\"genres\"])]\n",
    "    \n",
    "    # Lấy ra danh sách tên 'name' từ cột 'keywords'\n",
    "    keywords_list = [item.get(\"name\", \"\") for item in safe_parse(row[\"keywords\"])]\n",
    "\n",
    "    # Nối các tên lại thành một chuỗi, cách nhau bởi dấu phẩy\n",
    "    # Ví dụ: [\"Action\", \"Adventure\"] -> \"Action, Adventure\"\n",
    "    genres_str = \", \".join([g for g in genres_list if g])\n",
    "    keywords_str = \", \".join([k for k in keywords_list if k])\n",
    "\n",
    "    # Dùng f-string để tạo mô tả cuối cùng\n",
    "    # Chúng ta thêm các nhãn như \"Genres:\", \"Keywords:\" để model hiểu rõ ngữ cảnh\n",
    "    description = f\"\"\"Title: {row['title']}.\n",
    "Genres: {genres_str}.\n",
    "Keywords: {keywords_str}.\n",
    "Overview: {row['overview']}.\n",
    "Tagline: {row['tagline']}\"\"\"\n",
    "    \n",
    "    return description\n"
   ]
  },
  {
   "cell_type": "code",
   "execution_count": 39,
   "id": "cf828a84-7c56-483f-b964-6136d3f55593",
   "metadata": {},
   "outputs": [
    {
     "name": "stdout",
     "output_type": "stream",
     "text": [
      "Title: Avatar.\n",
      "Genres: Action, Adventure, Fantasy, Science Fiction.\n",
      "Keywords: culture clash, future, space war, space colony, society, space travel, futuristic, romance, space, alien, tribe, alien planet, cgi, marine, soldier, battle, love affair, anti war, power relations, mind and soul, 3d.\n",
      "Overview: In the 22nd century, a paraplegic Marine is dispatched to the moon Pandora on a unique mission, but becomes torn between following orders and protecting an alien civilization..\n",
      "Tagline: Enter the World of Pandora.\n"
     ]
    }
   ],
   "source": [
    "df[\"desc\"] = df.apply(build_description, axis=1)\n",
    "print(df[\"desc\"][0])"
   ]
  },
  {
   "cell_type": "code",
   "execution_count": 40,
   "id": "7911c225-0331-4193-9d50-2402c56ed32b",
   "metadata": {},
   "outputs": [
    {
     "name": "stdout",
     "output_type": "stream",
     "text": [
      "Đang xử lý và tạo mô tả cho từng bộ phim...\n",
      "✔️ Xử lý mô tả phim hoàn tất.\n"
     ]
    }
   ],
   "source": [
    "print(\"Đang xử lý và tạo mô tả cho từng bộ phim...\")\n",
    "df[\"desc\"] = df.apply(build_description, axis=1)\n",
    "print(\"✔️ Xử lý mô tả phim hoàn tất.\")"
   ]
  },
  {
   "cell_type": "code",
   "execution_count": 41,
   "id": "c291ff89-bddd-4ddd-96d2-848622168a0d",
   "metadata": {},
   "outputs": [
    {
     "data": {
      "text/plain": [
       "\"Title: My Date with Drew.\\nGenres: Documentary.\\nKeywords: obsession, camcorder, crush, dream girl.\\nOverview: Ever since the second grade when he first saw her in E.T. The Extraterrestrial, Brian Herzlinger has had a crush on Drew Barrymore. Now, 20 years later he's decided to try to fulfill his lifelong dream by asking her for a date. There's one small problem: She's Drew Barrymore and he's, well, Brian Herzlinger, a broke 27-year-old aspiring filmmaker from New Jersey..\\nTagline: nan\""
      ]
     },
     "execution_count": 41,
     "metadata": {},
     "output_type": "execute_result"
    }
   ],
   "source": [
    "df['desc'][4802]"
   ]
  },
  {
   "cell_type": "code",
   "execution_count": 48,
   "id": "302d7a4c-fc9e-407c-940e-d1368f758a54",
   "metadata": {},
   "outputs": [
    {
     "name": "stdout",
     "output_type": "stream",
     "text": [
      "Đã kết nối tới Pinecone index 'movies'.\n"
     ]
    }
   ],
   "source": [
    "pc = Pinecone(api_key=PINECONE_API_KEY)\n",
    "index_name = \"movies\"\n",
    "index = pc.Index(index_name)\n",
    "print(f\"Đã kết nối tới Pinecone index '{index_name}'.\")"
   ]
  },
  {
   "cell_type": "code",
   "execution_count": 43,
   "id": "9a199687-496e-44ac-82e8-13b8caee70a2",
   "metadata": {},
   "outputs": [
    {
     "name": "stdout",
     "output_type": "stream",
     "text": [
      "Đang xóa tất cả các vector cũ trong index 'movies'...\n",
      "Thông báo: Không thể xóa index (có thể index đã trống). Lỗi: (404)\n",
      "Reason: Not Found\n",
      "HTTP response headers: HTTPHeaderDict({'Date': 'Tue, 14 Oct 2025 03:25:56 GMT', 'Content-Type': 'application/json', 'Content-Length': '55', 'Connection': 'keep-alive', 'x-pinecone-request-latency-ms': '20', 'x-pinecone-request-id': '4431379502526659453', 'x-envoy-upstream-service-time': '21', 'server': 'envoy'})\n",
      "HTTP response body: {\"code\":5,\"message\":\"Namespace not found\",\"details\":[]}\n",
      "\n"
     ]
    }
   ],
   "source": [
    "print(f\"Đang xóa tất cả các vector cũ trong index '{index_name}'...\")\n",
    "try:\n",
    "    index.delete(deleteAll=True)\n",
    "    print(\"✔️ Xóa index cũ thành công.\")\n",
    "except Exception as e:\n",
    "    print(f\"Thông báo: Không thể xóa index (có thể index đã trống). Lỗi: {e}\")\n"
   ]
  },
  {
   "cell_type": "code",
   "execution_count": 44,
   "id": "be82d20d-7fb7-434b-835c-f561a8a18036",
   "metadata": {},
   "outputs": [
    {
     "name": "stdout",
     "output_type": "stream",
     "text": [
      "Bắt đầu tạo embedding cho tất cả phim với model mới...\n",
      "✔️ Tạo embedding mới thành công.\n"
     ]
    }
   ],
   "source": [
    "# --- 6. TẠO EMBEDDING MỚI VÀ UPSERT ---\n",
    "print(\"Bắt đầu tạo embedding cho tất cả phim với model mới...\")\n",
    "df[\"embedding\"] = df[\"desc\"].apply(lambda text: model.encode(text).tolist())\n",
    "print(\"✔️ Tạo embedding mới thành công.\")"
   ]
  },
  {
   "cell_type": "code",
   "execution_count": 45,
   "id": "58e27ad5-d5e4-4568-b612-4d17ab3ce13d",
   "metadata": {},
   "outputs": [
    {
     "name": "stdout",
     "output_type": "stream",
     "text": [
      "Chuẩn bị vector và metadata để upsert...\n",
      "✔️ Chuẩn bị vector thành công.\n"
     ]
    }
   ],
   "source": [
    "# ĐỊNH NGHĨA HÀM XỬ LÝ NaN (ĐÚNG NHƯ BẠN YÊU CẦU)\n",
    "def clean_metadata(val):\n",
    "    if val is None or (isinstance(val, float) and math.isnan(val)):\n",
    "        return \"\"  # thay NaN hoặc None bằng chuỗi rỗng\n",
    "    return str(val)\n",
    "\n",
    "# ÁP DỤNG HÀM XỬ LÝ NaN TẠI ĐÂY\n",
    "print(\"Chuẩn bị vector và metadata để upsert...\")\n",
    "vectors = [\n",
    "    {\n",
    "        \"id\": str(row[\"id\"]),\n",
    "        \"values\": row[\"embedding\"],\n",
    "        \"metadata\": {\n",
    "            \"title\": clean_metadata(row[\"title\"]),\n",
    "            \"overview\": clean_metadata(row[\"overview\"]),\n",
    "            \"tagline\": clean_metadata(row[\"tagline\"])\n",
    "        }\n",
    "    }\n",
    "    for _, row in df.iterrows()\n",
    "]\n",
    "print(\"✔️ Chuẩn bị vector thành công.\")"
   ]
  },
  {
   "cell_type": "code",
   "execution_count": 50,
   "id": "21c3a975-daf9-40e2-8426-f76369f97444",
   "metadata": {},
   "outputs": [
    {
     "name": "stdout",
     "output_type": "stream",
     "text": [
      "Bắt đầu upsert 4803 vector lên Pinecone...\n",
      "  -> Đã upsert batch 1/49\n",
      "  -> Đã upsert batch 2/49\n",
      "  -> Đã upsert batch 3/49\n",
      "  -> Đã upsert batch 4/49\n",
      "  -> Đã upsert batch 5/49\n",
      "  -> Đã upsert batch 6/49\n",
      "  -> Đã upsert batch 7/49\n",
      "  -> Đã upsert batch 8/49\n",
      "  -> Đã upsert batch 9/49\n",
      "  -> Đã upsert batch 10/49\n",
      "  -> Đã upsert batch 11/49\n",
      "  -> Đã upsert batch 12/49\n",
      "  -> Đã upsert batch 13/49\n",
      "  -> Đã upsert batch 14/49\n",
      "  -> Đã upsert batch 15/49\n",
      "  -> Đã upsert batch 16/49\n",
      "  -> Đã upsert batch 17/49\n",
      "  -> Đã upsert batch 18/49\n",
      "  -> Đã upsert batch 19/49\n",
      "  -> Đã upsert batch 20/49\n",
      "  -> Đã upsert batch 21/49\n",
      "  -> Đã upsert batch 22/49\n",
      "  -> Đã upsert batch 23/49\n",
      "  -> Đã upsert batch 24/49\n",
      "  -> Đã upsert batch 25/49\n",
      "  -> Đã upsert batch 26/49\n",
      "  -> Đã upsert batch 27/49\n",
      "  -> Đã upsert batch 28/49\n",
      "  -> Đã upsert batch 29/49\n",
      "  -> Đã upsert batch 30/49\n",
      "  -> Đã upsert batch 31/49\n",
      "  -> Đã upsert batch 32/49\n",
      "  -> Đã upsert batch 33/49\n",
      "  -> Đã upsert batch 34/49\n",
      "  -> Đã upsert batch 35/49\n",
      "  -> Đã upsert batch 36/49\n",
      "  -> Đã upsert batch 37/49\n",
      "  -> Đã upsert batch 38/49\n",
      "  -> Đã upsert batch 39/49\n",
      "  -> Đã upsert batch 40/49\n",
      "  -> Đã upsert batch 41/49\n",
      "  -> Đã upsert batch 42/49\n",
      "  -> Đã upsert batch 43/49\n",
      "  -> Đã upsert batch 44/49\n",
      "  -> Đã upsert batch 45/49\n",
      "  -> Đã upsert batch 46/49\n",
      "  -> Đã upsert batch 47/49\n",
      "  -> Đã upsert batch 48/49\n",
      "  -> Đã upsert batch 49/49\n",
      "🚀 HOÀN THÀNH! Đã re-index thành công 4803 phim vào Pinecone!\n"
     ]
    }
   ],
   "source": [
    "def upsert_in_batches(index_obj, vectors_list, batch_size=100):\n",
    "    print(f\"Bắt đầu upsert {len(vectors_list)} vector lên Pinecone...\")\n",
    "    for i in range(0, len(vectors_list), batch_size):\n",
    "        batch = vectors_list[i: i + batch_size]\n",
    "        index_obj.upsert(batch)\n",
    "        print(f\"  -> Đã upsert batch {i//batch_size + 1}/{len(vectors_list)//batch_size + 1}\")\n",
    "\n",
    "upsert_in_batches(index, vectors)\n",
    "print(f\"🚀 HOÀN THÀNH! Đã re-index thành công {len(vectors)} phim vào Pinecone!\")\n"
   ]
  },
  {
   "cell_type": "code",
   "execution_count": 9,
   "id": "69de5916-4b9b-4997-884d-5275772c7aa3",
   "metadata": {},
   "outputs": [
    {
     "name": "stderr",
     "output_type": "stream",
     "text": [
      "D:\\ai-env\\Lib\\site-packages\\transformers\\models\\marian\\tokenization_marian.py:175: UserWarning: Recommended: pip install sacremoses.\n",
      "  warnings.warn(\"Recommended: pip install sacremoses.\")\n",
      "Device set to use cpu\n"
     ]
    }
   ],
   "source": [
    "TRANSLATION_MODEL = \"Helsinki-NLP/opus-mt-vi-en\"\n",
    "\n",
    "translator = pipeline(\"translation\", model=TRANSLATION_MODEL)"
   ]
  },
  {
   "cell_type": "code",
   "execution_count": 10,
   "id": "15fac1a3-f5ac-4c09-b47f-3011e8c4daba",
   "metadata": {},
   "outputs": [],
   "source": [
    "def find_similar_movies_final(vietnamese_query, top_k=5):\n",
    "    \"\"\"\n",
    "    Hàm tìm kiếm phiên bản cuối cùng:\n",
    "    1. Dịch câu truy vấn Tiếng Việt sang Tiếng Anh.\n",
    "    2. Dùng câu Tiếng Anh để tạo vector và tìm kiếm.\n",
    "    \"\"\"\n",
    "    print(\"\\n\" + \"=\"*50)\n",
    "    print(f\"🎬 Bắt đầu tìm kiếm cho query (VI): '{vietnamese_query}'\")\n",
    "    \n",
    "    # BƯỚC 1: DỊCH SANG TIẾNG ANH\n",
    "    translated_result = translator(vietnamese_query)\n",
    "    english_query = translated_result[0]['translation_text']\n",
    "    print(f\"   -> Đã dịch sang (EN): '{english_query}'\")\n",
    "    \n",
    "    # BƯỚC 2: TẠO VECTOR TỪ CÂU TIẾNG ANH\n",
    "    query_embedding = model.encode(english_query).tolist()\n",
    "    \n",
    "    # BƯỚC 3: TRUY VẤN PINECONE\n",
    "    results = index.query(\n",
    "        vector=query_embedding,\n",
    "        top_k=top_k,\n",
    "        include_metadata=True\n",
    "    )\n",
    "    \n",
    "    # BƯỚC 4: IN KẾT QUẢ\n",
    "    print(\"\\n✨ Kết quả đề xuất: ✨\")\n",
    "    if not results['matches']:\n",
    "        print(\"   Không tìm thấy phim phù hợp.\")\n",
    "        return\n",
    "\n",
    "    for match in results['matches']:\n",
    "        title = match['metadata'].get('title', 'N/A')\n",
    "        overview = match['metadata'].get('overview', 'No overview available.')\n",
    "        score = match['score']\n",
    "        print(f\"  - Tiêu đề: {title} (Score: {score:.2f})\")\n",
    "        # In thêm overview để dễ kiểm tra\n",
    "        # print(f\"    Tóm tắt: {overview[:150]}...\") \n",
    "    print(\"=\"*50)"
   ]
  },
  {
   "cell_type": "code",
   "execution_count": 13,
   "id": "1440dc06-7c1d-4eb4-a1fa-b6d26831e1d6",
   "metadata": {},
   "outputs": [
    {
     "name": "stdout",
     "output_type": "stream",
     "text": [
      "\n",
      "==================================================\n",
      "🎬 Bắt đầu tìm kiếm cho query (VI): 'Người dơi đánh nhau với tên cướp'\n",
      "   -> Đã dịch sang (EN): 'Bats fight thieves.'\n",
      "\n",
      "✨ Kết quả đề xuất: ✨\n",
      "  - Tiêu đề: Bats (Score: 0.61)\n",
      "  - Tiêu đề: Robin Hood: Prince of Thieves (Score: 0.41)\n",
      "  - Tiêu đề: Batman & Robin (Score: 0.41)\n",
      "  - Tiêu đề: Snatch (Score: 0.41)\n",
      "  - Tiêu đề: The Benchwarmers (Score: 0.40)\n",
      "==================================================\n"
     ]
    }
   ],
   "source": [
    "find_similar_movies_final(\"Người dơi đánh nhau với tên cướp\")"
   ]
  },
  {
   "cell_type": "code",
   "execution_count": null,
   "id": "5a9f5f89-e232-48ae-8a86-9c7697e22b81",
   "metadata": {},
   "outputs": [],
   "source": []
  }
 ],
 "metadata": {
  "kernelspec": {
   "display_name": "Python 3 (ipykernel)",
   "language": "python",
   "name": "python3"
  },
  "language_info": {
   "codemirror_mode": {
    "name": "ipython",
    "version": 3
   },
   "file_extension": ".py",
   "mimetype": "text/x-python",
   "name": "python",
   "nbconvert_exporter": "python",
   "pygments_lexer": "ipython3",
   "version": "3.11.4"
  }
 },
 "nbformat": 4,
 "nbformat_minor": 5
}
